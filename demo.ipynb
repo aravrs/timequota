{
 "metadata": {
  "language_info": {
   "codemirror_mode": {
    "name": "ipython",
    "version": 3
   },
   "file_extension": ".py",
   "mimetype": "text/x-python",
   "name": "python",
   "nbconvert_exporter": "python",
   "pygments_lexer": "ipython3",
   "version": "3.9.1-final"
  },
  "orig_nbformat": 2,
  "kernelspec": {
   "name": "python3",
   "display_name": "Python 3.9.1 64-bit",
   "metadata": {
    "interpreter": {
     "hash": "09984c068ad01656d567c6038b661f6d2ed4953a306336eacc5a8dffff2fd391"
    }
   }
  }
 },
 "nbformat": 4,
 "nbformat_minor": 2,
 "cells": [
  {
   "source": [
    "# Time Quota\n",
    "\n",
    "## `pip install -U timequota`\n",
    "\n",
    "---"
   ],
   "cell_type": "markdown",
   "metadata": {}
  },
  {
   "cell_type": "code",
   "execution_count": 1,
   "metadata": {},
   "outputs": [
    {
     "output_type": "execute_result",
     "data": {
      "text/plain": [
       "'0.0.1'"
      ]
     },
     "metadata": {},
     "execution_count": 1
    }
   ],
   "source": [
    "import os, sys, time\n",
    "import timequota; timequota.__version__ # version check"
   ]
  },
  {
   "source": [
    "# Demo"
   ],
   "cell_type": "markdown",
   "metadata": {}
  },
  {
   "cell_type": "code",
   "execution_count": 2,
   "metadata": {},
   "outputs": [
    {
     "output_type": "stream",
     "name": "stdout",
     "text": [
      "Initial Quota 15 secs\n",
      "\n",
      "sleep 5 secs\n",
      "> time remaining: 9.9995 | time elapsed: 5.0005\n",
      "\n",
      "Start loop\n",
      "itr 1 : sleep 2 secs\n",
      "> time remaining: 7.9977 | time elapsed: 7.0023 | time this step: 2.0018 | time per step: 2.0018\n",
      "itr 2 : sleep 2 secs\n",
      "> time remaining: 5.9975 | time elapsed: 9.0025 | time this step: 2.0003 | time per step: 2.0010\n",
      "itr 3 : sleep 2 secs\n",
      "> time remaining: 3.9968 | time elapsed: 11.0032 | time this step: 2.0007 | time per step: 2.0009\n",
      "itr 4 : sleep 2 secs\n",
      "> time remaining: 1.9961 | time elapsed: 13.0039 | time this step: 2.0007 | time per step: 2.0009\n",
      "\n",
      "> TIME EXCEEDED: 15.0048\n",
      "Times up! Breaking out of loop. itr 4\n"
     ]
    }
   ],
   "source": [
    "from timequota import TimeQuota\n",
    "\n",
    "print(\"Initial Quota 15 secs\\n\")\n",
    "tq = TimeQuota(15) # initialize quota to 15 seconds\n",
    "\n",
    "# do fancy pre-processing stuff\n",
    "print(\"sleep 5 secs\")\n",
    "time.sleep(5)\n",
    "# ...\n",
    "\n",
    "tq.update() # update time quota\n",
    "\n",
    "print(\"\\nStart loop\")\n",
    "for i in range(8):\n",
    "\n",
    "    # do more fancy stuff, but in a loop\n",
    "    print(\"itr\", i+1, \": sleep 2 secs\")\n",
    "    time.sleep(2)\n",
    "    # ...\n",
    "\n",
    "    exceeded = tq.track() # track time quota\n",
    "    if exceeded: # if out of time\n",
    "\n",
    "        # do important fancy stuff\n",
    "        print(\"Times up! Breaking out of loop.\", \"itr\", i+1)\n",
    "        break # end loop"
   ]
  },
  {
   "source": [
    "---"
   ],
   "cell_type": "markdown",
   "metadata": {}
  }
 ]
}