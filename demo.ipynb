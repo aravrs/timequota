{
 "metadata": {
  "language_info": {
   "codemirror_mode": {
    "name": "ipython",
    "version": 3
   },
   "file_extension": ".py",
   "mimetype": "text/x-python",
   "name": "python",
   "nbconvert_exporter": "python",
   "pygments_lexer": "ipython3",
   "version": "3.9.6"
  },
  "orig_nbformat": 2,
  "kernelspec": {
   "name": "python3",
   "display_name": "Python 3.9.6 64-bit ('timequota-h7_JfHWb-py3.9': poetry)"
  },
  "interpreter": {
   "hash": "b07c60f383be40839630c0cb915c21e268aa3d89e9ae7cac62c21612f79f9551"
  }
 },
 "nbformat": 4,
 "nbformat_minor": 2,
 "cells": [
  {
   "cell_type": "markdown",
   "source": [
    "# Time Quota\r\n",
    "\r\n",
    "## `pip install -U timequota`\r\n",
    "\r\n",
    "---"
   ],
   "metadata": {}
  },
  {
   "cell_type": "code",
   "execution_count": 1,
   "source": [
    "import random, time\r\n",
    "\r\n",
    "import timequota\r\n",
    "print(\"Version\", timequota.__version__) # version check"
   ],
   "outputs": [
    {
     "output_type": "stream",
     "name": "stdout",
     "text": [
      "Version 0.0.3\n"
     ]
    }
   ],
   "metadata": {}
  },
  {
   "cell_type": "markdown",
   "source": [
    "# Demo"
   ],
   "metadata": {}
  },
  {
   "cell_type": "markdown",
   "source": [
    "## Simple"
   ],
   "metadata": {}
  },
  {
   "cell_type": "code",
   "execution_count": 2,
   "source": [
    "from timequota import TimeQuota\r\n",
    "\r\n",
    "print(\"Initial Quota 16 secs\\n\")\r\n",
    "tq = TimeQuota(16, name=\"simple-quota\") # initialize quota to 16 seconds\r\n",
    "\r\n",
    "# do fancy pre-processing stuff (assuming it does not exceed the quota)\r\n",
    "print(\"sleep 5 secs\")\r\n",
    "time.sleep(5)\r\n",
    "# ...\r\n",
    "\r\n",
    "print(\"\\nStart loop\")\r\n",
    "for i in tq.range(8, time_exceeded_fn=lambda: print(\"Times up!\")):\r\n",
    "\r\n",
    "    # do more fancy stuff, but in a loop\r\n",
    "    print(\"itr\", i+1, \": sleep 2 secs\")\r\n",
    "    time.sleep(2)\r\n",
    "    # ..."
   ],
   "outputs": [
    {
     "output_type": "stream",
     "name": "stdout",
     "text": [
      "Initial Quota 16 secs\n",
      "\n",
      "sleep 5 secs\n",
      "\n",
      "Start loop\n",
      "\u001b[32msimple-quota » \u001b[0mremaining: \u001b[36m10.9866s\u001b[0m, elapsed: \u001b[36m5.0134s\u001b[0m\n",
      "itr 1 : sleep 2 secs\n",
      "\u001b[32msimple-quota » \u001b[0mremaining: \u001b[36m8.9751s\u001b[0m, elapsed: \u001b[36m7.0249s\u001b[0m, this step: \u001b[36m2.0115s\u001b[0m, per step: \u001b[36m2.0115s\u001b[0m\n",
      "itr 2 : sleep 2 secs\n",
      "\u001b[32msimple-quota » \u001b[0mremaining: \u001b[36m6.9651s\u001b[0m, elapsed: \u001b[36m9.0349s\u001b[0m, this step: \u001b[36m2.0100s\u001b[0m, per step: \u001b[36m2.0108s\u001b[0m\n",
      "itr 3 : sleep 2 secs\n",
      "\u001b[32msimple-quota » \u001b[0mremaining: \u001b[36m4.9602s\u001b[0m, elapsed: \u001b[36m11.0398s\u001b[0m, this step: \u001b[36m2.0049s\u001b[0m, per step: \u001b[36m2.0088s\u001b[0m\n",
      "itr 4 : sleep 2 secs\n",
      "\u001b[32msimple-quota » \u001b[0mremaining: \u001b[36m2.9555s\u001b[0m, elapsed: \u001b[36m13.0445s\u001b[0m, this step: \u001b[36m2.0047s\u001b[0m, per step: \u001b[36m2.0078s\u001b[0m\n",
      "itr 5 : sleep 2 secs\n",
      "\u001b[32msimple-quota » \u001b[0mremaining: \u001b[36m0.9528s\u001b[0m, elapsed: \u001b[36m15.0472s\u001b[0m, this step: \u001b[36m2.0028s\u001b[0m, per step: \u001b[36m2.0068s\u001b[0m\n",
      "\u001b[32msimple-quota \u001b[31m⚠ TIME EXCEEDED! [Predicted]\u001b[0m Estimated: \u001b[36m17.0540s\u001b[0m, Overflow: \u001b[36m1.0540s\u001b[0m\n",
      "Times up!\n"
     ]
    }
   ],
   "metadata": {}
  },
  {
   "cell_type": "code",
   "execution_count": 3,
   "source": [
    "from timequota import TimeQuota\r\n",
    "\r\n",
    "for i in TimeQuota(11, name=\"simple-quota\").range(8, time_exceeded_fn=lambda: print(\"Times up!\")):\r\n",
    "\r\n",
    "    # ...\r\n",
    "    print(\"itr\", i+1, \": sleep 2 secs\")\r\n",
    "    time.sleep(2)\r\n",
    "    # ..."
   ],
   "outputs": [
    {
     "output_type": "stream",
     "name": "stdout",
     "text": [
      "\u001b[32msimple-quota » \u001b[0mremaining: \u001b[36m11.0000s\u001b[0m, elapsed: \u001b[36m0.0000s\u001b[0m\n",
      "itr 1 : sleep 2 secs\n",
      "\u001b[32msimple-quota » \u001b[0mremaining: \u001b[36m8.9962s\u001b[0m, elapsed: \u001b[36m2.0038s\u001b[0m, this step: \u001b[36m2.0038s\u001b[0m, per step: \u001b[36m2.0038s\u001b[0m\n",
      "itr 2 : sleep 2 secs\n",
      "\u001b[32msimple-quota » \u001b[0mremaining: \u001b[36m6.9950s\u001b[0m, elapsed: \u001b[36m4.0050s\u001b[0m, this step: \u001b[36m2.0012s\u001b[0m, per step: \u001b[36m2.0025s\u001b[0m\n",
      "itr 3 : sleep 2 secs\n",
      "\u001b[32msimple-quota » \u001b[0mremaining: \u001b[36m4.9931s\u001b[0m, elapsed: \u001b[36m6.0069s\u001b[0m, this step: \u001b[36m2.0019s\u001b[0m, per step: \u001b[36m2.0023s\u001b[0m\n",
      "itr 4 : sleep 2 secs\n",
      "\u001b[32msimple-quota » \u001b[0mremaining: \u001b[36m2.9917s\u001b[0m, elapsed: \u001b[36m8.0083s\u001b[0m, this step: \u001b[36m2.0014s\u001b[0m, per step: \u001b[36m2.0021s\u001b[0m\n",
      "itr 5 : sleep 2 secs\n",
      "\u001b[32msimple-quota » \u001b[0mremaining: \u001b[36m0.9830s\u001b[0m, elapsed: \u001b[36m10.0170s\u001b[0m, this step: \u001b[36m2.0087s\u001b[0m, per step: \u001b[36m2.0034s\u001b[0m\n",
      "\u001b[32msimple-quota \u001b[31m⚠ TIME EXCEEDED! [Predicted]\u001b[0m Estimated: \u001b[36m12.0203s\u001b[0m, Overflow: \u001b[36m1.0203s\u001b[0m\n",
      "Times up!\n"
     ]
    }
   ],
   "metadata": {}
  },
  {
   "cell_type": "code",
   "execution_count": 4,
   "source": [
    "print(tq)"
   ],
   "outputs": [
    {
     "output_type": "stream",
     "name": "stdout",
     "text": [
      "\u001b[32msimple-quota\u001b[0m               \u001b[33mTime\u001b[0m    \u001b[33mTime (s)\u001b[0m\n",
      "--------------  ---------------  ----------\n",
      "Time Quota      \u001b[36m00d 00h 00m 16s\u001b[0m    \u001b[36m16.0000s\u001b[0m\n",
      "Time Elapsed    \u001b[36m00d 00h 00m 15s\u001b[0m    \u001b[36m15.0472s\u001b[0m\n",
      "Time Remaining  \u001b[36m00d 00h 00m 01s\u001b[0m     \u001b[36m0.9528s\u001b[0m\n",
      "Time Per Step   \u001b[36m00d 00h 00m 02s\u001b[0m     \u001b[36m2.0068s\u001b[0m\n",
      "Time Exceeded         \u001b[31mPredicted\u001b[0m   \u001b[31mPredicted\u001b[0m\n"
     ]
    }
   ],
   "metadata": {}
  },
  {
   "cell_type": "markdown",
   "source": [
    "## Complex"
   ],
   "metadata": {}
  },
  {
   "cell_type": "code",
   "execution_count": 5,
   "source": [
    "from timequota import TimeQuota\r\n",
    "\r\n",
    "print(\"Initial Quota 16 secs\\n\")\r\n",
    "tq = TimeQuota(16, name=\"complex-quota\") # initialize quota to 16 seconds\r\n",
    "\r\n",
    "# do fancy pre-processing stuff\r\n",
    "print(\"sleep 5 secs\")\r\n",
    "time.sleep(5)\r\n",
    "# ...\r\n",
    "\r\n",
    "exceeded = tq.update() # update time quota\r\n",
    "\r\n",
    "if not exceeded:\r\n",
    "    print(\"\\nStart loop\")\r\n",
    "    for i in range(8):\r\n",
    "\r\n",
    "        # do more fancy stuff, but in a loop\r\n",
    "        print(\"itr\", i+1, \": sleep 2 secs\")\r\n",
    "        time.sleep(2)\r\n",
    "        # ...\r\n",
    "\r\n",
    "        exceeded = tq.track() # track time quota\r\n",
    "        if exceeded: # if out of time\r\n",
    "\r\n",
    "            # do fancy post-processing stuff\r\n",
    "            print(\"Times up!\")\r\n",
    "            break # end loop"
   ],
   "outputs": [
    {
     "output_type": "stream",
     "name": "stdout",
     "text": [
      "Initial Quota 16 secs\n",
      "\n",
      "sleep 5 secs\n",
      "\u001b[32mcomplex-quota » \u001b[0mremaining: \u001b[36m10.9974s\u001b[0m, elapsed: \u001b[36m5.0026s\u001b[0m\n",
      "\n",
      "Start loop\n",
      "itr 1 : sleep 2 secs\n",
      "\u001b[32mcomplex-quota » \u001b[0mremaining: \u001b[36m8.9905s\u001b[0m, elapsed: \u001b[36m7.0095s\u001b[0m, this step: \u001b[36m2.0069s\u001b[0m, per step: \u001b[36m2.0069s\u001b[0m\n",
      "itr 2 : sleep 2 secs\n",
      "\u001b[32mcomplex-quota » \u001b[0mremaining: \u001b[36m6.9842s\u001b[0m, elapsed: \u001b[36m9.0158s\u001b[0m, this step: \u001b[36m2.0062s\u001b[0m, per step: \u001b[36m2.0066s\u001b[0m\n",
      "itr 3 : sleep 2 secs\n",
      "\u001b[32mcomplex-quota » \u001b[0mremaining: \u001b[36m4.9707s\u001b[0m, elapsed: \u001b[36m11.0293s\u001b[0m, this step: \u001b[36m2.0136s\u001b[0m, per step: \u001b[36m2.0089s\u001b[0m\n",
      "itr 4 : sleep 2 secs\n",
      "\u001b[32mcomplex-quota » \u001b[0mremaining: \u001b[36m2.9672s\u001b[0m, elapsed: \u001b[36m13.0328s\u001b[0m, this step: \u001b[36m2.0035s\u001b[0m, per step: \u001b[36m2.0075s\u001b[0m\n",
      "itr 5 : sleep 2 secs\n",
      "\u001b[32mcomplex-quota » \u001b[0mremaining: \u001b[36m0.9553s\u001b[0m, elapsed: \u001b[36m15.0447s\u001b[0m, this step: \u001b[36m2.0119s\u001b[0m, per step: \u001b[36m2.0084s\u001b[0m\n",
      "\u001b[32mcomplex-quota \u001b[31m⚠ TIME EXCEEDED! [Predicted]\u001b[0m Estimated: \u001b[36m17.0531s\u001b[0m, Overflow: \u001b[36m1.0531s\u001b[0m\n",
      "Times up!\n"
     ]
    }
   ],
   "metadata": {}
  },
  {
   "cell_type": "code",
   "execution_count": 6,
   "source": [
    "print(tq)"
   ],
   "outputs": [
    {
     "output_type": "stream",
     "name": "stdout",
     "text": [
      "\u001b[32mcomplex-quota\u001b[0m               \u001b[33mTime\u001b[0m    \u001b[33mTime (s)\u001b[0m\n",
      "---------------  ---------------  ----------\n",
      "Time Quota       \u001b[36m00d 00h 00m 16s\u001b[0m    \u001b[36m16.0000s\u001b[0m\n",
      "Time Elapsed     \u001b[36m00d 00h 00m 15s\u001b[0m    \u001b[36m15.0447s\u001b[0m\n",
      "Time Remaining   \u001b[36m00d 00h 00m 01s\u001b[0m     \u001b[36m0.9553s\u001b[0m\n",
      "Time Per Step    \u001b[36m00d 00h 00m 02s\u001b[0m     \u001b[36m2.0084s\u001b[0m\n",
      "Time Exceeded          \u001b[31mPredicted\u001b[0m   \u001b[31mPredicted\u001b[0m\n"
     ]
    }
   ],
   "metadata": {}
  },
  {
   "cell_type": "markdown",
   "source": [
    "## Other"
   ],
   "metadata": {}
  },
  {
   "cell_type": "code",
   "execution_count": 7,
   "source": [
    "from timequota import TimeQuota\r\n",
    "\r\n",
    "tq = TimeQuota(10, \"s\")\r\n",
    "\r\n",
    "for el in tq.iter([\"a\", \"b\", \"c\", \"d\", \"e\", \"f\"]):  # iterables\r\n",
    "\r\n",
    "   # ...\r\n",
    "   print(\"iterable :\", el)\r\n",
    "   time.sleep(3)\r\n",
    "   # ..."
   ],
   "outputs": [
    {
     "output_type": "stream",
     "name": "stdout",
     "text": [
      "\u001b[32mtq » \u001b[0mremaining: \u001b[36m9.9999s\u001b[0m, elapsed: \u001b[36m0.0001s\u001b[0m\n",
      "iterable : a\n",
      "\u001b[32mtq » \u001b[0mremaining: \u001b[36m6.9866s\u001b[0m, elapsed: \u001b[36m3.0134s\u001b[0m, this step: \u001b[36m3.0134s\u001b[0m, per step: \u001b[36m3.0134s\u001b[0m\n",
      "iterable : b\n",
      "\u001b[32mtq » \u001b[0mremaining: \u001b[36m3.9818s\u001b[0m, elapsed: \u001b[36m6.0182s\u001b[0m, this step: \u001b[36m3.0047s\u001b[0m, per step: \u001b[36m3.0091s\u001b[0m\n",
      "iterable : c\n",
      "\u001b[32mtq » \u001b[0mremaining: \u001b[36m0.9808s\u001b[0m, elapsed: \u001b[36m9.0192s\u001b[0m, this step: \u001b[36m3.0011s\u001b[0m, per step: \u001b[36m3.0064s\u001b[0m\n",
      "\u001b[32mtq \u001b[31m⚠ TIME EXCEEDED! [Predicted]\u001b[0m Estimated: \u001b[36m12.0256s\u001b[0m, Overflow: \u001b[36m2.0256s\u001b[0m\n"
     ]
    }
   ],
   "metadata": {}
  },
  {
   "cell_type": "code",
   "execution_count": 8,
   "source": [
    "from timequota import TimeQuota\r\n",
    "\r\n",
    "tq = TimeQuota(1/6, \"m\", \"h\") # custom time modes\r\n",
    "\r\n",
    "for i in tq.range(8):\r\n",
    "\r\n",
    "   # ...\r\n",
    "   print(\"itr\", i+1, \": sleep 3 secs\")\r\n",
    "   time.sleep(3)\r\n",
    "   # ..."
   ],
   "outputs": [
    {
     "output_type": "stream",
     "name": "stdout",
     "text": [
      "\u001b[32mtq » \u001b[0mremaining: \u001b[36m0.0028h\u001b[0m, elapsed: \u001b[36m0.0000h\u001b[0m\n",
      "itr 1 : sleep 3 secs\n",
      "\u001b[32mtq » \u001b[0mremaining: \u001b[36m0.0019h\u001b[0m, elapsed: \u001b[36m0.0008h\u001b[0m, this step: \u001b[36m0.0008h\u001b[0m, per step: \u001b[36m0.0008h\u001b[0m\n",
      "itr 2 : sleep 3 secs\n",
      "\u001b[32mtq » \u001b[0mremaining: \u001b[36m0.0011h\u001b[0m, elapsed: \u001b[36m0.0017h\u001b[0m, this step: \u001b[36m0.0008h\u001b[0m, per step: \u001b[36m0.0008h\u001b[0m\n",
      "itr 3 : sleep 3 secs\n",
      "\u001b[32mtq » \u001b[0mremaining: \u001b[36m0.0003h\u001b[0m, elapsed: \u001b[36m0.0025h\u001b[0m, this step: \u001b[36m0.0008h\u001b[0m, per step: \u001b[36m0.0008h\u001b[0m\n",
      "\u001b[32mtq \u001b[31m⚠ TIME EXCEEDED! [Predicted]\u001b[0m Estimated: \u001b[36m0.0033h\u001b[0m, Overflow: \u001b[36m0.0006h\u001b[0m\n"
     ]
    }
   ],
   "metadata": {}
  },
  {
   "cell_type": "code",
   "execution_count": 9,
   "source": [
    "import numpy\r\n",
    "from timequota import TimeQuota\r\n",
    "\r\n",
    "tq = TimeQuota(11, step_aggr_fn=numpy.median) # custom step aggregate function\r\n",
    "\r\n",
    "for i in tq.range(8):\r\n",
    "\r\n",
    "    # ...\r\n",
    "    sleep_time = random.randint(1, 5)\r\n",
    "    print(\"itr\", i+1, f\": sleep {sleep_time} secs\")\r\n",
    "    time.sleep(sleep_time)\r\n",
    "    # ..."
   ],
   "outputs": [
    {
     "output_type": "stream",
     "name": "stdout",
     "text": [
      "\u001b[32mtq » \u001b[0mremaining: \u001b[36m10.9999s\u001b[0m, elapsed: \u001b[36m0.0001s\u001b[0m\n",
      "itr 1 : sleep 2 secs\n",
      "\u001b[32mtq » \u001b[0mremaining: \u001b[36m8.9877s\u001b[0m, elapsed: \u001b[36m2.0123s\u001b[0m, this step: \u001b[36m2.0122s\u001b[0m, per step: \u001b[36m2.0122s\u001b[0m\n",
      "itr 2 : sleep 3 secs\n",
      "\u001b[32mtq » \u001b[0mremaining: \u001b[36m5.9772s\u001b[0m, elapsed: \u001b[36m5.0228s\u001b[0m, this step: \u001b[36m3.0105s\u001b[0m, per step: \u001b[36m2.5114s\u001b[0m\n",
      "itr 3 : sleep 1 secs\n",
      "\u001b[32mtq » \u001b[0mremaining: \u001b[36m4.9767s\u001b[0m, elapsed: \u001b[36m6.0233s\u001b[0m, this step: \u001b[36m1.0005s\u001b[0m, per step: \u001b[36m2.0122s\u001b[0m\n",
      "itr 4 : sleep 3 secs\n",
      "\u001b[32mtq » \u001b[0mremaining: \u001b[36m1.9683s\u001b[0m, elapsed: \u001b[36m9.0317s\u001b[0m, this step: \u001b[36m3.0084s\u001b[0m, per step: \u001b[36m2.5103s\u001b[0m\n",
      "\u001b[32mtq \u001b[31m⚠ TIME EXCEEDED! [Predicted]\u001b[0m Estimated: \u001b[36m11.5421s\u001b[0m, Overflow: \u001b[36m0.5421s\u001b[0m\n"
     ]
    }
   ],
   "metadata": {}
  },
  {
   "cell_type": "code",
   "execution_count": 10,
   "source": [
    "from timequota import TimeQuota\r\n",
    "\r\n",
    "tq = TimeQuota(11, step_aggr_fn=lambda t: 3) # fixed step time\r\n",
    "\r\n",
    "for i in tq.range(8):\r\n",
    "\r\n",
    "   # ...\r\n",
    "   print(\"itr\", i+1, \": sleep 3 secs\")\r\n",
    "   time.sleep(3)\r\n",
    "   # ..."
   ],
   "outputs": [
    {
     "output_type": "stream",
     "name": "stdout",
     "text": [
      "\u001b[32mtq » \u001b[0mremaining: \u001b[36m10.9999s\u001b[0m, elapsed: \u001b[36m0.0001s\u001b[0m\n",
      "itr 1 : sleep 3 secs\n",
      "\u001b[32mtq » \u001b[0mremaining: \u001b[36m7.9908s\u001b[0m, elapsed: \u001b[36m3.0092s\u001b[0m, this step: \u001b[36m3.0092s\u001b[0m, per step: \u001b[36m3.0000s\u001b[0m\n",
      "itr 2 : sleep 3 secs\n",
      "\u001b[32mtq » \u001b[0mremaining: \u001b[36m4.9815s\u001b[0m, elapsed: \u001b[36m6.0185s\u001b[0m, this step: \u001b[36m3.0093s\u001b[0m, per step: \u001b[36m3.0000s\u001b[0m\n",
      "itr 3 : sleep 3 secs\n",
      "\u001b[32mtq » \u001b[0mremaining: \u001b[36m1.9678s\u001b[0m, elapsed: \u001b[36m9.0322s\u001b[0m, this step: \u001b[36m3.0137s\u001b[0m, per step: \u001b[36m3.0000s\u001b[0m\n",
      "\u001b[32mtq \u001b[31m⚠ TIME EXCEEDED! [Predicted]\u001b[0m Estimated: \u001b[36m12.0322s\u001b[0m, Overflow: \u001b[36m1.0322s\u001b[0m\n"
     ]
    }
   ],
   "metadata": {}
  },
  {
   "cell_type": "code",
   "execution_count": 11,
   "source": [
    "from timequota import TimeQuota\r\n",
    "\r\n",
    "tq = TimeQuota(\"inf\") # infinite time\r\n",
    "\r\n",
    "for i in tq.range(3):\r\n",
    "\r\n",
    "   # ...\r\n",
    "   print(\"itr\", i+1, \": sleep 3 secs\")\r\n",
    "   time.sleep(3)\r\n",
    "   # ..."
   ],
   "outputs": [
    {
     "output_type": "stream",
     "name": "stdout",
     "text": [
      "\u001b[32mtq » \u001b[0mremaining: \u001b[36minf\u001b[0m, elapsed: \u001b[36m0.0001s\u001b[0m\n",
      "itr 1 : sleep 3 secs\n",
      "\u001b[32mtq » \u001b[0mremaining: \u001b[36minf\u001b[0m, elapsed: \u001b[36m3.0129s\u001b[0m, this step: \u001b[36m3.0129s\u001b[0m, per step: \u001b[36m3.0129s\u001b[0m\n",
      "itr 2 : sleep 3 secs\n",
      "\u001b[32mtq » \u001b[0mremaining: \u001b[36minf\u001b[0m, elapsed: \u001b[36m6.0275s\u001b[0m, this step: \u001b[36m3.0146s\u001b[0m, per step: \u001b[36m3.0137s\u001b[0m\n",
      "itr 3 : sleep 3 secs\n",
      "\u001b[32mtq » \u001b[0mremaining: \u001b[36minf\u001b[0m, elapsed: \u001b[36m9.0375s\u001b[0m, this step: \u001b[36m3.0100s\u001b[0m, per step: \u001b[36m3.0125s\u001b[0m\n"
     ]
    }
   ],
   "metadata": {}
  },
  {
   "cell_type": "markdown",
   "source": [
    "## Extras"
   ],
   "metadata": {}
  },
  {
   "cell_type": "code",
   "execution_count": 12,
   "source": [
    "tq = TimeQuota(2.5, \"h\", \"s\", name=\"my-tq\") # 2.5 hours quota with seconds as display"
   ],
   "outputs": [],
   "metadata": {}
  },
  {
   "cell_type": "code",
   "execution_count": 13,
   "source": [
    "print(tq)"
   ],
   "outputs": [
    {
     "output_type": "stream",
     "name": "stdout",
     "text": [
      "\u001b[32mmy-tq\u001b[0m                      \u001b[33mTime\u001b[0m    \u001b[33mTime (s)\u001b[0m\n",
      "--------------  ---------------  ----------\n",
      "Time Quota      \u001b[36m00d 02h 30m 00s\u001b[0m  \u001b[36m9000.0000s\u001b[0m\n",
      "Time Elapsed    \u001b[36m00d 00h 00m 00s\u001b[0m           \u001b[36m―\u001b[0m\n",
      "Time Remaining  \u001b[36m00d 02h 30m 00s\u001b[0m  \u001b[36m9000.0000s\u001b[0m\n",
      "Time Per Step   \u001b[36m00d 00h 00m 00s\u001b[0m           \u001b[36m―\u001b[0m\n",
      "Time Exceeded             \u001b[36mFalse\u001b[0m       \u001b[36mFalse\u001b[0m\n"
     ]
    }
   ],
   "metadata": {}
  },
  {
   "cell_type": "code",
   "execution_count": 14,
   "source": [
    "repr(tq)"
   ],
   "outputs": [
    {
     "output_type": "execute_result",
     "data": {
      "text/plain": [
       "\"TimeQuota(2.5, 'h', 's', 'my-tq')\""
      ]
     },
     "metadata": {},
     "execution_count": 14
    }
   ],
   "metadata": {}
  },
  {
   "cell_type": "markdown",
   "source": [
    "---"
   ],
   "metadata": {}
  }
 ]
}