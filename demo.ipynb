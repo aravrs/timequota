{
 "metadata": {
  "language_info": {
   "codemirror_mode": {
    "name": "ipython",
    "version": 3
   },
   "file_extension": ".py",
   "mimetype": "text/x-python",
   "name": "python",
   "nbconvert_exporter": "python",
   "pygments_lexer": "ipython3",
   "version": "3.9.1-final"
  },
  "orig_nbformat": 2,
  "kernelspec": {
   "name": "python3",
   "display_name": "Python 3.9.1 64-bit",
   "metadata": {
    "interpreter": {
     "hash": "09984c068ad01656d567c6038b661f6d2ed4953a306336eacc5a8dffff2fd391"
    }
   }
  }
 },
 "nbformat": 4,
 "nbformat_minor": 2,
 "cells": [
  {
   "source": [
    "# Time Quota\n",
    "\n",
    "## `pip install -U timequota`\n",
    "\n",
    "---"
   ],
   "cell_type": "markdown",
   "metadata": {}
  },
  {
   "cell_type": "code",
   "execution_count": 1,
   "metadata": {},
   "outputs": [
    {
     "output_type": "execute_result",
     "data": {
      "text/plain": [
       "'0.0.2'"
      ]
     },
     "metadata": {},
     "execution_count": 1
    }
   ],
   "source": [
    "import os, sys, time\n",
    "import timequota; timequota.__version__ # version check"
   ]
  },
  {
   "source": [
    "# Demo"
   ],
   "cell_type": "markdown",
   "metadata": {}
  },
  {
   "cell_type": "code",
   "execution_count": 2,
   "metadata": {},
   "outputs": [
    {
     "output_type": "stream",
     "name": "stdout",
     "text": [
      "Initial Quota 16 secs\n",
      "\n",
      "sleep 5 secs\n",
      "my-tq > time remaining: 10.9987 | time elapsed: 5.0013\n",
      "\n",
      "Start loop\n",
      "itr 1 : sleep 2 secs\n",
      "my-tq > time remaining: 8.9981 | time elapsed: 7.0019 | time this step: 2.0006 | time per step: 2.0006\n",
      "itr 2 : sleep 2 secs\n",
      "my-tq > time remaining: 6.9971 | time elapsed: 9.0029 | time this step: 2.0010 | time per step: 2.0008\n",
      "itr 3 : sleep 2 secs\n",
      "my-tq > time remaining: 4.9964 | time elapsed: 11.0036 | time this step: 2.0007 | time per step: 2.0008\n",
      "itr 4 : sleep 2 secs\n",
      "my-tq > time remaining: 2.9952 | time elapsed: 13.0048 | time this step: 2.0012 | time per step: 2.0009\n",
      "itr 5 : sleep 2 secs\n",
      "my-tq > time remaining: 0.9940 | time elapsed: 15.0060 | time this step: 2.0012 | time per step: 2.0010\n",
      "\n",
      "my-tq > TIME EXCEEDED! Estimated: 17.0070\n",
      "Times up! Breaking out of loop. itr 5\n"
     ]
    }
   ],
   "source": [
    "from timequota import TimeQuota\n",
    "\n",
    "print(\"Initial Quota 16 secs\\n\")\n",
    "tq = TimeQuota(16, name=\"my-tq\") # initialize quota to 16 seconds\n",
    "\n",
    "# do fancy pre-processing stuff (assuming it does not exceed the quota)\n",
    "print(\"sleep 5 secs\")\n",
    "time.sleep(5)\n",
    "# ...\n",
    "\n",
    "tq.update() # update time quota\n",
    "\n",
    "print(\"\\nStart loop\")\n",
    "for i in range(8):\n",
    "\n",
    "    # do more fancy stuff, but in a loop\n",
    "    print(\"itr\", i+1, \": sleep 2 secs\")\n",
    "    time.sleep(2)\n",
    "    # ...\n",
    "\n",
    "    exceeded = tq.track() # track time quota\n",
    "    if exceeded: # if out of time\n",
    "\n",
    "        # do important fancy stuff\n",
    "        print(\"Times up! Breaking out of loop.\", \"itr\", i+1)\n",
    "        break # end loop"
   ]
  },
  {
   "cell_type": "code",
   "execution_count": 3,
   "metadata": {},
   "outputs": [
    {
     "output_type": "stream",
     "name": "stdout",
     "text": [
      "+------------------+------------+\n|  my-tq           |  Time (s)  |\n+------------------+------------+\n|  Time Quota      |   16.0000  |\n|  Time Elapsed    |   15.0060  |\n|  Time Remaining  |    0.9940  |\n|  Time Per Step   |    2.0010  |\n|  Time Exceeded   |      True  |\n+------------------+------------+\n"
     ]
    }
   ],
   "source": [
    "print(tq)"
   ]
  },
  {
   "cell_type": "code",
   "execution_count": 4,
   "metadata": {},
   "outputs": [
    {
     "output_type": "stream",
     "name": "stdout",
     "text": [
      "+------------------+------------+\n|  my-tq           |  Time (s)  |\n+------------------+------------+\n|  Time Quota      |   16.0000  |\n|  Time Elapsed    |    0.0000  |\n|  Time Remaining  |   16.0000  |\n|  Time Per Step   |    0.0000  |\n|  Time Exceeded   |     False  |\n+------------------+------------+\n"
     ]
    }
   ],
   "source": [
    "tq.reset() # reset if required\n",
    "print(tq)"
   ]
  },
  {
   "cell_type": "code",
   "execution_count": 5,
   "metadata": {},
   "outputs": [
    {
     "output_type": "execute_result",
     "data": {
      "text/plain": [
       "\"TimeQuota(16, 'my-tq', True)\""
      ]
     },
     "metadata": {},
     "execution_count": 5
    }
   ],
   "source": [
    "repr(tq)"
   ]
  },
  {
   "source": [
    "---"
   ],
   "cell_type": "markdown",
   "metadata": {}
  }
 ]
}