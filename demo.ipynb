{
 "metadata": {
  "language_info": {
   "codemirror_mode": {
    "name": "ipython",
    "version": 3
   },
   "file_extension": ".py",
   "mimetype": "text/x-python",
   "name": "python",
   "nbconvert_exporter": "python",
   "pygments_lexer": "ipython3",
   "version": "3.9.1-final"
  },
  "orig_nbformat": 2,
  "kernelspec": {
   "name": "python3",
   "display_name": "Python 3.9.1 64-bit",
   "metadata": {
    "interpreter": {
     "hash": "e925eabdd53c471c92ff9aa87d7874ff5bc748253b3656a289fe139d22f5c78a"
    }
   }
  }
 },
 "nbformat": 4,
 "nbformat_minor": 2,
 "cells": [
  {
   "cell_type": "code",
   "execution_count": 1,
   "metadata": {},
   "outputs": [
    {
     "output_type": "execute_result",
     "data": {
      "text/plain": [
       "'0.0.0'"
      ]
     },
     "metadata": {},
     "execution_count": 1
    }
   ],
   "source": [
    "import os, sys, time\n",
    "import timequota; timequota.__version__ # version check"
   ]
  },
  {
   "source": [
    "# Demo"
   ],
   "cell_type": "markdown",
   "metadata": {}
  },
  {
   "cell_type": "code",
   "execution_count": 2,
   "metadata": {},
   "outputs": [
    {
     "output_type": "stream",
     "name": "stdout",
     "text": [
      "Inital Quota 15 secs\n",
      "\n",
      "sleep 5 secs\n",
      "> time remaining: 9.9995 | time elapsed: 5.0005\n",
      "\n",
      "Start loop\n",
      "itr 1 : sleep 2 secs\n",
      "> time remaining: 7.9982 | time elapsed: 7.0018 | time this step: 2.0013 | time per step: 2.0013\n",
      "itr 2 : sleep 2 secs\n",
      "> time remaining: 5.9974 | time elapsed: 9.0026 | time this step: 2.0008 | time per step: 2.0010\n",
      "itr 3 : sleep 2 secs\n",
      "> time remaining: 3.9971 | time elapsed: 11.0029 | time this step: 2.0003 | time per step: 2.0008\n",
      "itr 4 : sleep 2 secs\n",
      "> time remaining: 1.9960 | time elapsed: 13.0040 | time this step: 2.0011 | time per step: 2.0009\n",
      "\n",
      "> TIME EXCEEDED: 15.0049\n",
      "Times up! Breaking out of loop. itr 4\n"
     ]
    }
   ],
   "source": [
    "from timequota import TimeQuota\n",
    "\n",
    "print(\"Inital Quota 15 secs\\n\")\n",
    "tq = TimeQuota(15) # initialize quota to 15 seconds\n",
    "\n",
    "# do fancy pre-processing stuff\n",
    "print(\"sleep 5 secs\")\n",
    "time.sleep(5)\n",
    "# ...\n",
    "\n",
    "tq.update() # update time quota\n",
    "\n",
    "print(\"\\nStart loop\")\n",
    "for i in range(8):\n",
    "\n",
    "    # do more fancy stuff, but in a loop\n",
    "    print(\"itr\", i+1, \": sleep 2 secs\")\n",
    "    time.sleep(2)\n",
    "    # ...\n",
    "\n",
    "    exceeded = tq.track() # track time quota\n",
    "    if exceeded: # if out of time\n",
    "\n",
    "        # do important fancy stuff\n",
    "        print(\"Times up! Breaking out of loop.\", \"itr\", i+1)\n",
    "        break # end loop\n",
    "        \n",
    "\n"
   ]
  },
  {
   "source": [
    "---"
   ],
   "cell_type": "markdown",
   "metadata": {}
  }
 ]
}