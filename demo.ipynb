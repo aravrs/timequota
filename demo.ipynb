{
 "metadata": {
  "language_info": {
   "codemirror_mode": {
    "name": "ipython",
    "version": 3
   },
   "file_extension": ".py",
   "mimetype": "text/x-python",
   "name": "python",
   "nbconvert_exporter": "python",
   "pygments_lexer": "ipython3",
   "version": "3.9.6"
  },
  "orig_nbformat": 2,
  "kernelspec": {
   "name": "python3",
   "display_name": "Python 3.9.6 64-bit ('timequota-h7_JfHWb-py3.9': poetry)"
  },
  "interpreter": {
   "hash": "b07c60f383be40839630c0cb915c21e268aa3d89e9ae7cac62c21612f79f9551"
  }
 },
 "nbformat": 4,
 "nbformat_minor": 2,
 "cells": [
  {
   "cell_type": "markdown",
   "source": [
    "# Time Quota\r\n",
    "\r\n",
    "## `pip install -U timequota`\r\n",
    "\r\n",
    "---"
   ],
   "metadata": {}
  },
  {
   "cell_type": "code",
   "execution_count": 1,
   "source": [
    "! pip install -U timequota --quiet"
   ],
   "outputs": [],
   "metadata": {}
  },
  {
   "cell_type": "code",
   "execution_count": 2,
   "source": [
    "import random, time\r\n",
    "\r\n",
    "import timequota\r\n",
    "print(\"Version\", timequota.__version__) # version check"
   ],
   "outputs": [
    {
     "output_type": "stream",
     "name": "stdout",
     "text": [
      "Version 0.0.5\n"
     ]
    }
   ],
   "metadata": {}
  },
  {
   "cell_type": "markdown",
   "source": [
    "# Demo"
   ],
   "metadata": {}
  },
  {
   "cell_type": "markdown",
   "source": [
    "## Simple"
   ],
   "metadata": {}
  },
  {
   "cell_type": "code",
   "execution_count": 3,
   "source": [
    "from timequota import TimeQuota\r\n",
    "\r\n",
    "print(\"Initial Quota 16 secs\\n\")\r\n",
    "tq = TimeQuota(16, name=\"simple-quota\") # initialize quota to 16 seconds\r\n",
    "\r\n",
    "# do fancy pre-processing stuff (assuming it does not exceed the quota)\r\n",
    "print(\"sleep 5 secs\")\r\n",
    "time.sleep(5)\r\n",
    "# ...\r\n",
    "\r\n",
    "print(\"\\nStart loop\")\r\n",
    "for i in tq.range(8, time_exceeded_fn=lambda: print(\"Times up!\")):\r\n",
    "\r\n",
    "    # do more fancy stuff, but in a loop\r\n",
    "    print(\"itr\", i+1, \": sleep 2 secs\")\r\n",
    "    time.sleep(2)\r\n",
    "    # ..."
   ],
   "outputs": [
    {
     "output_type": "stream",
     "name": "stdout",
     "text": [
      "Initial Quota 16 secs\n",
      "\n",
      "sleep 5 secs\n",
      "\n",
      "Start loop\n",
      "\u001b[32msimple-quota » \u001b[0mremaining: \u001b[36m10.9871s\u001b[0m, elapsed: \u001b[36m5.0129s\u001b[0m\n",
      "itr 1 : sleep 2 secs\n",
      "\u001b[32msimple-quota » \u001b[0mremaining: \u001b[36m8.9723s\u001b[0m, elapsed: \u001b[36m7.0277s\u001b[0m, this step: \u001b[36m2.0147s\u001b[0m, per step: \u001b[36m2.0147s\u001b[0m\n",
      "itr 2 : sleep 2 secs\n",
      "\u001b[32msimple-quota » \u001b[0mremaining: \u001b[36m6.9588s\u001b[0m, elapsed: \u001b[36m9.0412s\u001b[0m, this step: \u001b[36m2.0135s\u001b[0m, per step: \u001b[36m2.0141s\u001b[0m\n",
      "itr 3 : sleep 2 secs\n",
      "\u001b[32msimple-quota » \u001b[0mremaining: \u001b[36m4.9474s\u001b[0m, elapsed: \u001b[36m11.0526s\u001b[0m, this step: \u001b[36m2.0115s\u001b[0m, per step: \u001b[36m2.0132s\u001b[0m\n",
      "itr 4 : sleep 2 secs\n",
      "\u001b[32msimple-quota » \u001b[0mremaining: \u001b[36m2.9449s\u001b[0m, elapsed: \u001b[36m13.0551s\u001b[0m, this step: \u001b[36m2.0024s\u001b[0m, per step: \u001b[36m2.0105s\u001b[0m\n",
      "itr 5 : sleep 2 secs\n",
      "\u001b[32msimple-quota » \u001b[0mremaining: \u001b[36m0.9412s\u001b[0m, elapsed: \u001b[36m15.0588s\u001b[0m, this step: \u001b[36m2.0037s\u001b[0m, per step: \u001b[36m2.0092s\u001b[0m\n",
      "\u001b[32msimple-quota \u001b[31m⚠ TIME EXCEEDED! [Predicted]\u001b[0m Estimated: \u001b[36m17.0680s\u001b[0m, Overflow: \u001b[36m1.0680s\u001b[0m\n",
      "Times up!\n"
     ]
    }
   ],
   "metadata": {}
  },
  {
   "cell_type": "code",
   "execution_count": 4,
   "source": [
    "from timequota import TimeQuota\r\n",
    "\r\n",
    "for i in TimeQuota(11, name=\"simple-quota\").range(8, time_exceeded_fn=lambda: print(\"Times up!\")):\r\n",
    "\r\n",
    "    # ...\r\n",
    "    print(\"itr\", i+1, \": sleep 2 secs\")\r\n",
    "    time.sleep(2)\r\n",
    "    # ..."
   ],
   "outputs": [
    {
     "output_type": "stream",
     "name": "stdout",
     "text": [
      "\u001b[32msimple-quota » \u001b[0mremaining: \u001b[36m11.0000s\u001b[0m, elapsed: \u001b[36m0.0000s\u001b[0m\n",
      "itr 1 : sleep 2 secs\n",
      "\u001b[32msimple-quota » \u001b[0mremaining: \u001b[36m8.9850s\u001b[0m, elapsed: \u001b[36m2.0150s\u001b[0m, this step: \u001b[36m2.0150s\u001b[0m, per step: \u001b[36m2.0150s\u001b[0m\n",
      "itr 2 : sleep 2 secs\n",
      "\u001b[32msimple-quota » \u001b[0mremaining: \u001b[36m6.9702s\u001b[0m, elapsed: \u001b[36m4.0298s\u001b[0m, this step: \u001b[36m2.0148s\u001b[0m, per step: \u001b[36m2.0149s\u001b[0m\n",
      "itr 3 : sleep 2 secs\n",
      "\u001b[32msimple-quota » \u001b[0mremaining: \u001b[36m4.9558s\u001b[0m, elapsed: \u001b[36m6.0442s\u001b[0m, this step: \u001b[36m2.0144s\u001b[0m, per step: \u001b[36m2.0147s\u001b[0m\n",
      "itr 4 : sleep 2 secs\n",
      "\u001b[32msimple-quota » \u001b[0mremaining: \u001b[36m2.9494s\u001b[0m, elapsed: \u001b[36m8.0506s\u001b[0m, this step: \u001b[36m2.0065s\u001b[0m, per step: \u001b[36m2.0127s\u001b[0m\n",
      "itr 5 : sleep 2 secs\n",
      "\u001b[32msimple-quota » \u001b[0mremaining: \u001b[36m0.9480s\u001b[0m, elapsed: \u001b[36m10.0520s\u001b[0m, this step: \u001b[36m2.0014s\u001b[0m, per step: \u001b[36m2.0104s\u001b[0m\n",
      "\u001b[32msimple-quota \u001b[31m⚠ TIME EXCEEDED! [Predicted]\u001b[0m Estimated: \u001b[36m12.0624s\u001b[0m, Overflow: \u001b[36m1.0624s\u001b[0m\n",
      "Times up!\n"
     ]
    }
   ],
   "metadata": {}
  },
  {
   "cell_type": "code",
   "execution_count": 5,
   "source": [
    "print(tq)"
   ],
   "outputs": [
    {
     "output_type": "stream",
     "name": "stdout",
     "text": [
      "\u001b[32msimple-quota\u001b[0m               \u001b[33mTime\u001b[0m    \u001b[33mTime (s)\u001b[0m\n",
      "--------------  ---------------  ----------\n",
      "Time Quota      \u001b[36m00d 00h 00m 16s\u001b[0m    \u001b[36m16.0000s\u001b[0m\n",
      "Time Elapsed    \u001b[36m00d 00h 00m 15s\u001b[0m    \u001b[36m15.0588s\u001b[0m\n",
      "Time Remaining  \u001b[36m00d 00h 00m 01s\u001b[0m     \u001b[36m0.9412s\u001b[0m\n",
      "Time Per Step   \u001b[36m00d 00h 00m 02s\u001b[0m     \u001b[36m2.0092s\u001b[0m\n",
      "Time Exceeded         \u001b[31mPredicted\u001b[0m   \u001b[31mPredicted\u001b[0m\n"
     ]
    }
   ],
   "metadata": {}
  },
  {
   "cell_type": "markdown",
   "source": [
    "## Complex"
   ],
   "metadata": {}
  },
  {
   "cell_type": "code",
   "execution_count": 6,
   "source": [
    "from timequota import TimeQuota\r\n",
    "\r\n",
    "print(\"Initial Quota 16 secs\\n\")\r\n",
    "tq = TimeQuota(16, name=\"complex-quota\") # initialize quota to 16 seconds\r\n",
    "\r\n",
    "# do fancy pre-processing stuff\r\n",
    "print(\"sleep 5 secs\")\r\n",
    "time.sleep(5)\r\n",
    "# ...\r\n",
    "\r\n",
    "exceeded = tq.update() # update time quota\r\n",
    "\r\n",
    "if not exceeded:\r\n",
    "    print(\"\\nStart loop\")\r\n",
    "    for i in range(8):\r\n",
    "\r\n",
    "        # do more fancy stuff, but in a loop\r\n",
    "        print(\"itr\", i+1, \": sleep 2 secs\")\r\n",
    "        time.sleep(2)\r\n",
    "        # ...\r\n",
    "\r\n",
    "        exceeded = tq.track() # track time quota\r\n",
    "        if exceeded: # if out of time\r\n",
    "\r\n",
    "            # do fancy post-processing stuff\r\n",
    "            print(\"Times up!\")\r\n",
    "            break # end loop"
   ],
   "outputs": [
    {
     "output_type": "stream",
     "name": "stdout",
     "text": [
      "Initial Quota 16 secs\n",
      "\n",
      "sleep 5 secs\n",
      "\u001b[32mcomplex-quota » \u001b[0mremaining: \u001b[36m10.9983s\u001b[0m, elapsed: \u001b[36m5.0017s\u001b[0m\n",
      "\n",
      "Start loop\n",
      "itr 1 : sleep 2 secs\n",
      "\u001b[32mcomplex-quota » \u001b[0mremaining: \u001b[36m8.9865s\u001b[0m, elapsed: \u001b[36m7.0135s\u001b[0m, this step: \u001b[36m2.0118s\u001b[0m, per step: \u001b[36m2.0118s\u001b[0m\n",
      "itr 2 : sleep 2 secs\n",
      "\u001b[32mcomplex-quota » \u001b[0mremaining: \u001b[36m6.9862s\u001b[0m, elapsed: \u001b[36m9.0138s\u001b[0m, this step: \u001b[36m2.0003s\u001b[0m, per step: \u001b[36m2.0061s\u001b[0m\n",
      "itr 3 : sleep 2 secs\n",
      "\u001b[32mcomplex-quota » \u001b[0mremaining: \u001b[36m4.9844s\u001b[0m, elapsed: \u001b[36m11.0156s\u001b[0m, this step: \u001b[36m2.0018s\u001b[0m, per step: \u001b[36m2.0046s\u001b[0m\n",
      "itr 4 : sleep 2 secs\n",
      "\u001b[32mcomplex-quota » \u001b[0mremaining: \u001b[36m2.9825s\u001b[0m, elapsed: \u001b[36m13.0175s\u001b[0m, this step: \u001b[36m2.0019s\u001b[0m, per step: \u001b[36m2.0040s\u001b[0m\n",
      "itr 5 : sleep 2 secs\n",
      "\u001b[32mcomplex-quota » \u001b[0mremaining: \u001b[36m0.9802s\u001b[0m, elapsed: \u001b[36m15.0198s\u001b[0m, this step: \u001b[36m2.0023s\u001b[0m, per step: \u001b[36m2.0036s\u001b[0m\n",
      "\u001b[32mcomplex-quota \u001b[31m⚠ TIME EXCEEDED! [Predicted]\u001b[0m Estimated: \u001b[36m17.0235s\u001b[0m, Overflow: \u001b[36m1.0235s\u001b[0m\n",
      "Times up!\n"
     ]
    }
   ],
   "metadata": {}
  },
  {
   "cell_type": "code",
   "execution_count": 7,
   "source": [
    "print(tq)"
   ],
   "outputs": [
    {
     "output_type": "stream",
     "name": "stdout",
     "text": [
      "\u001b[32mcomplex-quota\u001b[0m               \u001b[33mTime\u001b[0m    \u001b[33mTime (s)\u001b[0m\n",
      "---------------  ---------------  ----------\n",
      "Time Quota       \u001b[36m00d 00h 00m 16s\u001b[0m    \u001b[36m16.0000s\u001b[0m\n",
      "Time Elapsed     \u001b[36m00d 00h 00m 15s\u001b[0m    \u001b[36m15.0198s\u001b[0m\n",
      "Time Remaining   \u001b[36m00d 00h 00m 01s\u001b[0m     \u001b[36m0.9802s\u001b[0m\n",
      "Time Per Step    \u001b[36m00d 00h 00m 02s\u001b[0m     \u001b[36m2.0036s\u001b[0m\n",
      "Time Exceeded          \u001b[31mPredicted\u001b[0m   \u001b[31mPredicted\u001b[0m\n"
     ]
    }
   ],
   "metadata": {}
  },
  {
   "cell_type": "markdown",
   "source": [
    "## Other"
   ],
   "metadata": {}
  },
  {
   "cell_type": "code",
   "execution_count": 8,
   "source": [
    "from timequota import TimeQuota\r\n",
    "\r\n",
    "tq = TimeQuota(10, \"s\")\r\n",
    "\r\n",
    "for el in tq.iter([\"a\", \"b\", \"c\", \"d\", \"e\", \"f\"]):  # iterables\r\n",
    "\r\n",
    "   # ...\r\n",
    "   print(\"iterable :\", el)\r\n",
    "   time.sleep(3)\r\n",
    "   # ..."
   ],
   "outputs": [
    {
     "output_type": "stream",
     "name": "stdout",
     "text": [
      "\u001b[32mtq » \u001b[0mremaining: \u001b[36m9.9999s\u001b[0m, elapsed: \u001b[36m0.0001s\u001b[0m\n",
      "iterable : a\n",
      "\u001b[32mtq » \u001b[0mremaining: \u001b[36m6.9853s\u001b[0m, elapsed: \u001b[36m3.0147s\u001b[0m, this step: \u001b[36m3.0146s\u001b[0m, per step: \u001b[36m3.0146s\u001b[0m\n",
      "iterable : b\n",
      "\u001b[32mtq » \u001b[0mremaining: \u001b[36m3.9766s\u001b[0m, elapsed: \u001b[36m6.0234s\u001b[0m, this step: \u001b[36m3.0087s\u001b[0m, per step: \u001b[36m3.0117s\u001b[0m\n",
      "iterable : c\n",
      "\u001b[32mtq » \u001b[0mremaining: \u001b[36m0.9683s\u001b[0m, elapsed: \u001b[36m9.0317s\u001b[0m, this step: \u001b[36m3.0082s\u001b[0m, per step: \u001b[36m3.0105s\u001b[0m\n",
      "\u001b[32mtq \u001b[31m⚠ TIME EXCEEDED! [Predicted]\u001b[0m Estimated: \u001b[36m12.0422s\u001b[0m, Overflow: \u001b[36m2.0422s\u001b[0m\n"
     ]
    }
   ],
   "metadata": {}
  },
  {
   "cell_type": "code",
   "execution_count": 9,
   "source": [
    "from timequota import TimeQuota\r\n",
    "\r\n",
    "tq = TimeQuota(1/6, \"m\", \"h\") # custom time modes\r\n",
    "\r\n",
    "for i in tq.range(8):\r\n",
    "\r\n",
    "   # ...\r\n",
    "   print(\"itr\", i+1, \": sleep 3 secs\")\r\n",
    "   time.sleep(3)\r\n",
    "   # ..."
   ],
   "outputs": [
    {
     "output_type": "stream",
     "name": "stdout",
     "text": [
      "\u001b[32mtq » \u001b[0mremaining: \u001b[36m0.0028h\u001b[0m, elapsed: \u001b[36m0.0000h\u001b[0m\n",
      "itr 1 : sleep 3 secs\n",
      "\u001b[32mtq » \u001b[0mremaining: \u001b[36m0.0019h\u001b[0m, elapsed: \u001b[36m0.0008h\u001b[0m, this step: \u001b[36m0.0008h\u001b[0m, per step: \u001b[36m0.0008h\u001b[0m\n",
      "itr 2 : sleep 3 secs\n",
      "\u001b[32mtq » \u001b[0mremaining: \u001b[36m0.0011h\u001b[0m, elapsed: \u001b[36m0.0017h\u001b[0m, this step: \u001b[36m0.0008h\u001b[0m, per step: \u001b[36m0.0008h\u001b[0m\n",
      "itr 3 : sleep 3 secs\n",
      "\u001b[32mtq » \u001b[0mremaining: \u001b[36m0.0003h\u001b[0m, elapsed: \u001b[36m0.0025h\u001b[0m, this step: \u001b[36m0.0008h\u001b[0m, per step: \u001b[36m0.0008h\u001b[0m\n",
      "\u001b[32mtq \u001b[31m⚠ TIME EXCEEDED! [Predicted]\u001b[0m Estimated: \u001b[36m0.0033h\u001b[0m, Overflow: \u001b[36m0.0006h\u001b[0m\n"
     ]
    }
   ],
   "metadata": {}
  },
  {
   "cell_type": "code",
   "execution_count": 10,
   "source": [
    "import numpy\r\n",
    "from timequota import TimeQuota\r\n",
    "\r\n",
    "tq = TimeQuota(11, step_aggr_fn=numpy.median) # custom step aggregate function\r\n",
    "\r\n",
    "for i in tq.range(8):\r\n",
    "\r\n",
    "    # ...\r\n",
    "    sleep_time = random.randint(1, 5)\r\n",
    "    print(\"itr\", i+1, f\": sleep {sleep_time} secs\")\r\n",
    "    time.sleep(sleep_time)\r\n",
    "    # ..."
   ],
   "outputs": [
    {
     "output_type": "stream",
     "name": "stdout",
     "text": [
      "\u001b[32mtq » \u001b[0mremaining: \u001b[36m10.9999s\u001b[0m, elapsed: \u001b[36m0.0001s\u001b[0m\n",
      "itr 1 : sleep 2 secs\n",
      "\u001b[32mtq » \u001b[0mremaining: \u001b[36m8.9856s\u001b[0m, elapsed: \u001b[36m2.0144s\u001b[0m, this step: \u001b[36m2.0143s\u001b[0m, per step: \u001b[36m2.0143s\u001b[0m\n",
      "itr 2 : sleep 3 secs\n",
      "\u001b[32mtq » \u001b[0mremaining: \u001b[36m5.9713s\u001b[0m, elapsed: \u001b[36m5.0287s\u001b[0m, this step: \u001b[36m3.0143s\u001b[0m, per step: \u001b[36m2.5143s\u001b[0m\n",
      "itr 3 : sleep 5 secs\n",
      "\u001b[32mtq » \u001b[0mremaining: \u001b[36m0.9654s\u001b[0m, elapsed: \u001b[36m10.0346s\u001b[0m, this step: \u001b[36m5.0059s\u001b[0m, per step: \u001b[36m3.0143s\u001b[0m\n",
      "\u001b[32mtq \u001b[31m⚠ TIME EXCEEDED! [Predicted]\u001b[0m Estimated: \u001b[36m13.0489s\u001b[0m, Overflow: \u001b[36m2.0489s\u001b[0m\n"
     ]
    }
   ],
   "metadata": {}
  },
  {
   "cell_type": "code",
   "execution_count": 11,
   "source": [
    "from timequota import TimeQuota\r\n",
    "\r\n",
    "tq = TimeQuota(11, step_aggr_fn=lambda t: 3) # fixed step time\r\n",
    "\r\n",
    "for i in tq.range(8):\r\n",
    "\r\n",
    "   # ...\r\n",
    "   print(\"itr\", i+1, \": sleep 3 secs\")\r\n",
    "   time.sleep(3)\r\n",
    "   # ..."
   ],
   "outputs": [
    {
     "output_type": "stream",
     "name": "stdout",
     "text": [
      "\u001b[32mtq » \u001b[0mremaining: \u001b[36m10.9999s\u001b[0m, elapsed: \u001b[36m0.0001s\u001b[0m\n",
      "itr 1 : sleep 3 secs\n",
      "\u001b[32mtq » \u001b[0mremaining: \u001b[36m7.9893s\u001b[0m, elapsed: \u001b[36m3.0107s\u001b[0m, this step: \u001b[36m3.0106s\u001b[0m, per step: \u001b[36m3.0000s\u001b[0m\n",
      "itr 2 : sleep 3 secs\n",
      "\u001b[32mtq » \u001b[0mremaining: \u001b[36m4.9850s\u001b[0m, elapsed: \u001b[36m6.0150s\u001b[0m, this step: \u001b[36m3.0043s\u001b[0m, per step: \u001b[36m3.0000s\u001b[0m\n",
      "itr 3 : sleep 3 secs\n",
      "\u001b[32mtq » \u001b[0mremaining: \u001b[36m1.9832s\u001b[0m, elapsed: \u001b[36m9.0168s\u001b[0m, this step: \u001b[36m3.0018s\u001b[0m, per step: \u001b[36m3.0000s\u001b[0m\n",
      "\u001b[32mtq \u001b[31m⚠ TIME EXCEEDED! [Predicted]\u001b[0m Estimated: \u001b[36m12.0168s\u001b[0m, Overflow: \u001b[36m1.0168s\u001b[0m\n"
     ]
    }
   ],
   "metadata": {}
  },
  {
   "cell_type": "code",
   "execution_count": 12,
   "source": [
    "from timequota import TimeQuota\r\n",
    "\r\n",
    "tq = TimeQuota(\"inf\") # infinite time\r\n",
    "\r\n",
    "for i in tq.range(3):\r\n",
    "\r\n",
    "   # ...\r\n",
    "   print(\"itr\", i+1, \": sleep 3 secs\")\r\n",
    "   time.sleep(3)\r\n",
    "   # ..."
   ],
   "outputs": [
    {
     "output_type": "stream",
     "name": "stdout",
     "text": [
      "\u001b[32mtq » \u001b[0mremaining: \u001b[36minf\u001b[0m, elapsed: \u001b[36m0.0001s\u001b[0m\n",
      "itr 1 : sleep 3 secs\n",
      "\u001b[32mtq » \u001b[0mremaining: \u001b[36minf\u001b[0m, elapsed: \u001b[36m3.0091s\u001b[0m, this step: \u001b[36m3.0091s\u001b[0m, per step: \u001b[36m3.0091s\u001b[0m\n",
      "itr 2 : sleep 3 secs\n",
      "\u001b[32mtq » \u001b[0mremaining: \u001b[36minf\u001b[0m, elapsed: \u001b[36m6.0101s\u001b[0m, this step: \u001b[36m3.0010s\u001b[0m, per step: \u001b[36m3.0050s\u001b[0m\n",
      "itr 3 : sleep 3 secs\n",
      "\u001b[32mtq » \u001b[0mremaining: \u001b[36minf\u001b[0m, elapsed: \u001b[36m9.0191s\u001b[0m, this step: \u001b[36m3.0090s\u001b[0m, per step: \u001b[36m3.0063s\u001b[0m\n"
     ]
    }
   ],
   "metadata": {}
  },
  {
   "cell_type": "markdown",
   "source": [
    "## Extras"
   ],
   "metadata": {}
  },
  {
   "cell_type": "code",
   "execution_count": 13,
   "source": [
    "tq = TimeQuota(2.5, \"h\", \"s\", name=\"my-tq\") # 2.5 hours quota with seconds as display"
   ],
   "outputs": [],
   "metadata": {}
  },
  {
   "cell_type": "code",
   "execution_count": 14,
   "source": [
    "print(tq)"
   ],
   "outputs": [
    {
     "output_type": "stream",
     "name": "stdout",
     "text": [
      "\u001b[32mmy-tq\u001b[0m                      \u001b[33mTime\u001b[0m    \u001b[33mTime (s)\u001b[0m\n",
      "--------------  ---------------  ----------\n",
      "Time Quota      \u001b[36m00d 02h 30m 00s\u001b[0m  \u001b[36m9000.0000s\u001b[0m\n",
      "Time Elapsed    \u001b[36m00d 00h 00m 00s\u001b[0m           \u001b[36m―\u001b[0m\n",
      "Time Remaining  \u001b[36m00d 02h 30m 00s\u001b[0m  \u001b[36m9000.0000s\u001b[0m\n",
      "Time Per Step   \u001b[36m00d 00h 00m 00s\u001b[0m           \u001b[36m―\u001b[0m\n",
      "Time Exceeded             \u001b[36mFalse\u001b[0m       \u001b[36mFalse\u001b[0m\n"
     ]
    }
   ],
   "metadata": {}
  },
  {
   "cell_type": "code",
   "execution_count": 15,
   "source": [
    "repr(tq)"
   ],
   "outputs": [
    {
     "output_type": "execute_result",
     "data": {
      "text/plain": [
       "\"TimeQuota(2.5, 'h', 's', name='my-tq', step_aggr_fn=<function mean at 0x000002B0851543A0>, timer_fn=<built-in function perf_counter>, logger_fn=<built-in function print>, precision=4, color=True, verbose=True)\""
      ]
     },
     "metadata": {},
     "execution_count": 15
    }
   ],
   "metadata": {}
  },
  {
   "cell_type": "markdown",
   "source": [
    "---"
   ],
   "metadata": {}
  }
 ]
}