{
 "metadata": {
  "language_info": {
   "codemirror_mode": {
    "name": "ipython",
    "version": 3
   },
   "file_extension": ".py",
   "mimetype": "text/x-python",
   "name": "python",
   "nbconvert_exporter": "python",
   "pygments_lexer": "ipython3",
   "version": "3.9.6"
  },
  "orig_nbformat": 2,
  "kernelspec": {
   "name": "python3",
   "display_name": "Python 3.9.6 64-bit ('timequota-h7_JfHWb-py3.9': poetry)"
  },
  "interpreter": {
   "hash": "b07c60f383be40839630c0cb915c21e268aa3d89e9ae7cac62c21612f79f9551"
  }
 },
 "nbformat": 4,
 "nbformat_minor": 2,
 "cells": [
  {
   "cell_type": "markdown",
   "source": [
    "# Time Quota\r\n",
    "\r\n",
    "## `pip install -U timequota`\r\n",
    "\r\n",
    "---"
   ],
   "metadata": {}
  },
  {
   "cell_type": "code",
   "execution_count": 1,
   "source": [
    "import random, time\r\n",
    "\r\n",
    "import timequota\r\n",
    "print(\"Version\", timequota.__version__) # version check"
   ],
   "outputs": [
    {
     "output_type": "stream",
     "name": "stdout",
     "text": [
      "Version 0.0.3\n"
     ]
    }
   ],
   "metadata": {}
  },
  {
   "cell_type": "markdown",
   "source": [
    "# Demo"
   ],
   "metadata": {}
  },
  {
   "cell_type": "markdown",
   "source": [
    "## Simple"
   ],
   "metadata": {}
  },
  {
   "cell_type": "code",
   "execution_count": 2,
   "source": [
    "from timequota import TimeQuota\r\n",
    "\r\n",
    "print(\"Initial Quota 16 secs\\n\")\r\n",
    "tq = TimeQuota(16, name=\"simple-quota\") # initialize quota to 16 seconds\r\n",
    "\r\n",
    "# do fancy pre-processing stuff (assuming it does not exceed the quota)\r\n",
    "print(\"sleep 5 secs\")\r\n",
    "time.sleep(5)\r\n",
    "# ...\r\n",
    "\r\n",
    "print(\"\\nStart loop\")\r\n",
    "for i in tq.range(8, time_exceeded_fn=lambda: print(\"Times up!\")):\r\n",
    "\r\n",
    "    # do more fancy stuff, but in a loop\r\n",
    "    print(\"itr\", i+1, \": sleep 2 secs\")\r\n",
    "    time.sleep(2)\r\n",
    "    # ..."
   ],
   "outputs": [
    {
     "output_type": "stream",
     "name": "stdout",
     "text": [
      "Initial Quota 16 secs\n",
      "\n",
      "sleep 5 secs\n",
      "\n",
      "Start loop\n",
      "\u001b[32msimple-quota » \u001b[0mremaining: \u001b[36m10.9836s\u001b[0m, elapsed: \u001b[36m5.0164s\u001b[0m\n",
      "itr 1 : sleep 2 secs\n",
      "\u001b[32msimple-quota » \u001b[0mremaining: \u001b[36m8.9787s\u001b[0m, elapsed: \u001b[36m7.0213s\u001b[0m, this step: \u001b[36m2.0050s\u001b[0m, per step: \u001b[36m2.0050s\u001b[0m\n",
      "itr 2 : sleep 2 secs\n",
      "\u001b[32msimple-quota » \u001b[0mremaining: \u001b[36m6.9695s\u001b[0m, elapsed: \u001b[36m9.0305s\u001b[0m, this step: \u001b[36m2.0092s\u001b[0m, per step: \u001b[36m2.0071s\u001b[0m\n",
      "itr 3 : sleep 2 secs\n",
      "\u001b[32msimple-quota » \u001b[0mremaining: \u001b[36m4.9552s\u001b[0m, elapsed: \u001b[36m11.0448s\u001b[0m, this step: \u001b[36m2.0143s\u001b[0m, per step: \u001b[36m2.0095s\u001b[0m\n",
      "itr 4 : sleep 2 secs\n",
      "\u001b[32msimple-quota » \u001b[0mremaining: \u001b[36m2.9483s\u001b[0m, elapsed: \u001b[36m13.0517s\u001b[0m, this step: \u001b[36m2.0069s\u001b[0m, per step: \u001b[36m2.0088s\u001b[0m\n",
      "itr 5 : sleep 2 secs\n",
      "\u001b[32msimple-quota » \u001b[0mremaining: \u001b[36m0.9408s\u001b[0m, elapsed: \u001b[36m15.0592s\u001b[0m, this step: \u001b[36m2.0075s\u001b[0m, per step: \u001b[36m2.0086s\u001b[0m\n",
      "\u001b[32msimple-quota \u001b[31m⚠ TIME EXCEEDED! [Predicted]\u001b[0m Estimated: \u001b[36m17.0678s\u001b[0m, Overflow: \u001b[36m1.0678s\u001b[0m\n",
      "Times up!\n"
     ]
    }
   ],
   "metadata": {}
  },
  {
   "cell_type": "code",
   "execution_count": 3,
   "source": [
    "from timequota import TimeQuota\r\n",
    "\r\n",
    "for i in TimeQuota(11, name=\"simple-quota\").range(8, time_exceeded_fn=lambda: print(\"Times up!\")):\r\n",
    "\r\n",
    "    # ...\r\n",
    "    print(\"itr\", i+1, \": sleep 2 secs\")\r\n",
    "    time.sleep(2)\r\n",
    "    # ..."
   ],
   "outputs": [
    {
     "output_type": "stream",
     "name": "stdout",
     "text": [
      "\u001b[32msimple-quota » \u001b[0mremaining: \u001b[36m11.0000s\u001b[0m, elapsed: \u001b[36m0.0000s\u001b[0m\n",
      "itr 1 : sleep 2 secs\n",
      "\u001b[32msimple-quota » \u001b[0mremaining: \u001b[36m8.9966s\u001b[0m, elapsed: \u001b[36m2.0034s\u001b[0m, this step: \u001b[36m2.0034s\u001b[0m, per step: \u001b[36m2.0034s\u001b[0m\n",
      "itr 2 : sleep 2 secs\n",
      "\u001b[32msimple-quota » \u001b[0mremaining: \u001b[36m6.9931s\u001b[0m, elapsed: \u001b[36m4.0069s\u001b[0m, this step: \u001b[36m2.0035s\u001b[0m, per step: \u001b[36m2.0034s\u001b[0m\n",
      "itr 3 : sleep 2 secs\n",
      "\u001b[32msimple-quota » \u001b[0mremaining: \u001b[36m4.9820s\u001b[0m, elapsed: \u001b[36m6.0180s\u001b[0m, this step: \u001b[36m2.0112s\u001b[0m, per step: \u001b[36m2.0060s\u001b[0m\n",
      "itr 4 : sleep 2 secs\n",
      "\u001b[32msimple-quota » \u001b[0mremaining: \u001b[36m2.9701s\u001b[0m, elapsed: \u001b[36m8.0299s\u001b[0m, this step: \u001b[36m2.0119s\u001b[0m, per step: \u001b[36m2.0075s\u001b[0m\n",
      "itr 5 : sleep 2 secs\n",
      "\u001b[32msimple-quota » \u001b[0mremaining: \u001b[36m0.9565s\u001b[0m, elapsed: \u001b[36m10.0435s\u001b[0m, this step: \u001b[36m2.0135s\u001b[0m, per step: \u001b[36m2.0087s\u001b[0m\n",
      "\u001b[32msimple-quota \u001b[31m⚠ TIME EXCEEDED! [Predicted]\u001b[0m Estimated: \u001b[36m12.0522s\u001b[0m, Overflow: \u001b[36m1.0522s\u001b[0m\n",
      "Times up!\n"
     ]
    }
   ],
   "metadata": {}
  },
  {
   "cell_type": "code",
   "execution_count": 4,
   "source": [
    "print(tq)"
   ],
   "outputs": [
    {
     "output_type": "stream",
     "name": "stdout",
     "text": [
      "\u001b[32msimple-quota\u001b[0m               \u001b[33mTime\u001b[0m    \u001b[33mTime (s)\u001b[0m\n",
      "--------------  ---------------  ----------\n",
      "Time Quota      \u001b[36m00d 00h 00m 16s\u001b[0m    \u001b[36m16.0000s\u001b[0m\n",
      "Time Elapsed    \u001b[36m00d 00h 00m 15s\u001b[0m    \u001b[36m15.0592s\u001b[0m\n",
      "Time Remaining  \u001b[36m00d 00h 00m 01s\u001b[0m     \u001b[36m0.9408s\u001b[0m\n",
      "Time Per Step   \u001b[36m00d 00h 00m 02s\u001b[0m     \u001b[36m2.0086s\u001b[0m\n",
      "Time Exceeded         \u001b[31mPredicted\u001b[0m   \u001b[31mPredicted\u001b[0m\n"
     ]
    }
   ],
   "metadata": {}
  },
  {
   "cell_type": "markdown",
   "source": [
    "## Complex"
   ],
   "metadata": {}
  },
  {
   "cell_type": "code",
   "execution_count": 5,
   "source": [
    "from timequota import TimeQuota\r\n",
    "\r\n",
    "print(\"Initial Quota 16 secs\\n\")\r\n",
    "tq = TimeQuota(16, name=\"complex-quota\") # initialize quota to 16 seconds\r\n",
    "\r\n",
    "# do fancy pre-processing stuff\r\n",
    "print(\"sleep 5 secs\")\r\n",
    "time.sleep(5)\r\n",
    "# ...\r\n",
    "\r\n",
    "exceeded = tq.update() # update time quota\r\n",
    "\r\n",
    "if not exceeded:\r\n",
    "    print(\"\\nStart loop\")\r\n",
    "    for i in range(8):\r\n",
    "\r\n",
    "        # do more fancy stuff, but in a loop\r\n",
    "        print(\"itr\", i+1, \": sleep 2 secs\")\r\n",
    "        time.sleep(2)\r\n",
    "        # ...\r\n",
    "\r\n",
    "        exceeded = tq.track() # track time quota\r\n",
    "        if exceeded: # if out of time\r\n",
    "\r\n",
    "            # do fancy post-processing stuff\r\n",
    "            print(\"Times up!\")\r\n",
    "            break # end loop"
   ],
   "outputs": [
    {
     "output_type": "stream",
     "name": "stdout",
     "text": [
      "Initial Quota 16 secs\n",
      "\n",
      "sleep 5 secs\n",
      "\u001b[32mcomplex-quota » \u001b[0mremaining: \u001b[36m10.9991s\u001b[0m, elapsed: \u001b[36m5.0009s\u001b[0m\n",
      "\n",
      "Start loop\n",
      "itr 1 : sleep 2 secs\n",
      "\u001b[32mcomplex-quota » \u001b[0mremaining: \u001b[36m8.9876s\u001b[0m, elapsed: \u001b[36m7.0124s\u001b[0m, this step: \u001b[36m2.0115s\u001b[0m, per step: \u001b[36m2.0115s\u001b[0m\n",
      "itr 2 : sleep 2 secs\n",
      "\u001b[32mcomplex-quota » \u001b[0mremaining: \u001b[36m6.9704s\u001b[0m, elapsed: \u001b[36m9.0296s\u001b[0m, this step: \u001b[36m2.0172s\u001b[0m, per step: \u001b[36m2.0144s\u001b[0m\n",
      "itr 3 : sleep 2 secs\n",
      "\u001b[32mcomplex-quota » \u001b[0mremaining: \u001b[36m4.9689s\u001b[0m, elapsed: \u001b[36m11.0311s\u001b[0m, this step: \u001b[36m2.0014s\u001b[0m, per step: \u001b[36m2.0101s\u001b[0m\n",
      "itr 4 : sleep 2 secs\n",
      "\u001b[32mcomplex-quota » \u001b[0mremaining: \u001b[36m2.9657s\u001b[0m, elapsed: \u001b[36m13.0343s\u001b[0m, this step: \u001b[36m2.0032s\u001b[0m, per step: \u001b[36m2.0083s\u001b[0m\n",
      "itr 5 : sleep 2 secs\n",
      "\u001b[32mcomplex-quota » \u001b[0mremaining: \u001b[36m0.9655s\u001b[0m, elapsed: \u001b[36m15.0345s\u001b[0m, this step: \u001b[36m2.0003s\u001b[0m, per step: \u001b[36m2.0067s\u001b[0m\n",
      "\u001b[32mcomplex-quota \u001b[31m⚠ TIME EXCEEDED! [Predicted]\u001b[0m Estimated: \u001b[36m17.0413s\u001b[0m, Overflow: \u001b[36m1.0413s\u001b[0m\n",
      "Times up!\n"
     ]
    }
   ],
   "metadata": {}
  },
  {
   "cell_type": "code",
   "execution_count": 6,
   "source": [
    "print(tq)"
   ],
   "outputs": [
    {
     "output_type": "stream",
     "name": "stdout",
     "text": [
      "\u001b[32mcomplex-quota\u001b[0m               \u001b[33mTime\u001b[0m    \u001b[33mTime (s)\u001b[0m\n",
      "---------------  ---------------  ----------\n",
      "Time Quota       \u001b[36m00d 00h 00m 16s\u001b[0m    \u001b[36m16.0000s\u001b[0m\n",
      "Time Elapsed     \u001b[36m00d 00h 00m 15s\u001b[0m    \u001b[36m15.0345s\u001b[0m\n",
      "Time Remaining   \u001b[36m00d 00h 00m 01s\u001b[0m     \u001b[36m0.9655s\u001b[0m\n",
      "Time Per Step    \u001b[36m00d 00h 00m 02s\u001b[0m     \u001b[36m2.0067s\u001b[0m\n",
      "Time Exceeded          \u001b[31mPredicted\u001b[0m   \u001b[31mPredicted\u001b[0m\n"
     ]
    }
   ],
   "metadata": {}
  },
  {
   "cell_type": "markdown",
   "source": [
    "## Other"
   ],
   "metadata": {}
  },
  {
   "cell_type": "code",
   "execution_count": 7,
   "source": [
    "from timequota import TimeQuota\r\n",
    "\r\n",
    "tq = TimeQuota(10, \"s\")\r\n",
    "\r\n",
    "for el in tq.iter([\"a\", \"b\", \"c\", \"d\", \"e\", \"f\"]):  # iterables\r\n",
    "\r\n",
    "   # ...\r\n",
    "   print(\"iterable :\", el)\r\n",
    "   time.sleep(3)\r\n",
    "   # ..."
   ],
   "outputs": [
    {
     "output_type": "stream",
     "name": "stdout",
     "text": [
      "\u001b[32mtq » \u001b[0mremaining: \u001b[36m9.9999s\u001b[0m, elapsed: \u001b[36m0.0001s\u001b[0m\n",
      "iterable : a\n",
      "\u001b[32mtq » \u001b[0mremaining: \u001b[36m6.9860s\u001b[0m, elapsed: \u001b[36m3.0140s\u001b[0m, this step: \u001b[36m3.0140s\u001b[0m, per step: \u001b[36m3.0140s\u001b[0m\n",
      "iterable : b\n",
      "\u001b[32mtq » \u001b[0mremaining: \u001b[36m3.9765s\u001b[0m, elapsed: \u001b[36m6.0235s\u001b[0m, this step: \u001b[36m3.0095s\u001b[0m, per step: \u001b[36m3.0117s\u001b[0m\n",
      "iterable : c\n",
      "\u001b[32mtq » \u001b[0mremaining: \u001b[36m0.9643s\u001b[0m, elapsed: \u001b[36m9.0357s\u001b[0m, this step: \u001b[36m3.0121s\u001b[0m, per step: \u001b[36m3.0119s\u001b[0m\n",
      "\u001b[32mtq \u001b[31m⚠ TIME EXCEEDED! [Predicted]\u001b[0m Estimated: \u001b[36m12.0475s\u001b[0m, Overflow: \u001b[36m2.0475s\u001b[0m\n"
     ]
    }
   ],
   "metadata": {}
  },
  {
   "cell_type": "code",
   "execution_count": 8,
   "source": [
    "from timequota import TimeQuota\r\n",
    "\r\n",
    "tq = TimeQuota(1/6, \"m\", \"h\") # custom time modes\r\n",
    "\r\n",
    "for i in tq.range(8):\r\n",
    "\r\n",
    "   # ...\r\n",
    "   print(\"itr\", i+1, \": sleep 3 secs\")\r\n",
    "   time.sleep(3)\r\n",
    "   # ..."
   ],
   "outputs": [
    {
     "output_type": "stream",
     "name": "stdout",
     "text": [
      "\u001b[32mtq » \u001b[0mremaining: \u001b[36m0.0028h\u001b[0m, elapsed: \u001b[36m0.0000h\u001b[0m\n",
      "itr 1 : sleep 3 secs\n",
      "\u001b[32mtq » \u001b[0mremaining: \u001b[36m0.0019h\u001b[0m, elapsed: \u001b[36m0.0008h\u001b[0m, this step: \u001b[36m0.0008h\u001b[0m, per step: \u001b[36m0.0008h\u001b[0m\n",
      "itr 2 : sleep 3 secs\n",
      "\u001b[32mtq » \u001b[0mremaining: \u001b[36m0.0011h\u001b[0m, elapsed: \u001b[36m0.0017h\u001b[0m, this step: \u001b[36m0.0008h\u001b[0m, per step: \u001b[36m0.0008h\u001b[0m\n",
      "itr 3 : sleep 3 secs\n",
      "\u001b[32mtq » \u001b[0mremaining: \u001b[36m0.0003h\u001b[0m, elapsed: \u001b[36m0.0025h\u001b[0m, this step: \u001b[36m0.0008h\u001b[0m, per step: \u001b[36m0.0008h\u001b[0m\n",
      "\u001b[32mtq \u001b[31m⚠ TIME EXCEEDED! [Predicted]\u001b[0m Estimated: \u001b[36m0.0033h\u001b[0m, Overflow: \u001b[36m0.0006h\u001b[0m\n"
     ]
    }
   ],
   "metadata": {}
  },
  {
   "cell_type": "code",
   "execution_count": 9,
   "source": [
    "import numpy\r\n",
    "from timequota import TimeQuota\r\n",
    "\r\n",
    "tq = TimeQuota(11, step_aggr_fn=numpy.median) # custom step aggregate function\r\n",
    "\r\n",
    "for i in tq.range(8):\r\n",
    "\r\n",
    "    # ...\r\n",
    "    sleep_time = random.randint(1, 5)\r\n",
    "    print(\"itr\", i+1, f\": sleep {sleep_time} secs\")\r\n",
    "    time.sleep(sleep_time)\r\n",
    "    # ..."
   ],
   "outputs": [
    {
     "output_type": "stream",
     "name": "stdout",
     "text": [
      "\u001b[32mtq » \u001b[0mremaining: \u001b[36m10.9999s\u001b[0m, elapsed: \u001b[36m0.0001s\u001b[0m\n",
      "itr 1 : sleep 1 secs\n",
      "\u001b[32mtq » \u001b[0mremaining: \u001b[36m9.9891s\u001b[0m, elapsed: \u001b[36m1.0109s\u001b[0m, this step: \u001b[36m1.0108s\u001b[0m, per step: \u001b[36m1.0108s\u001b[0m\n",
      "itr 2 : sleep 4 secs\n",
      "\u001b[32mtq » \u001b[0mremaining: \u001b[36m5.9802s\u001b[0m, elapsed: \u001b[36m5.0198s\u001b[0m, this step: \u001b[36m4.0089s\u001b[0m, per step: \u001b[36m2.5098s\u001b[0m\n",
      "itr 3 : sleep 1 secs\n",
      "\u001b[32mtq » \u001b[0mremaining: \u001b[36m4.9780s\u001b[0m, elapsed: \u001b[36m6.0220s\u001b[0m, this step: \u001b[36m1.0022s\u001b[0m, per step: \u001b[36m1.0108s\u001b[0m\n",
      "itr 4 : sleep 5 secs\n",
      "\u001b[32mtq » \u001b[0mremaining: \u001b[36m-0.0215s\u001b[0m, elapsed: \u001b[36m11.0215s\u001b[0m, this step: \u001b[36m4.9996s\u001b[0m, per step: \u001b[36m2.5098s\u001b[0m\n",
      "\u001b[32mtq \u001b[31m⚠ TIME EXCEEDED!\u001b[0m Elapsed: \u001b[36m11.0215s\u001b[0m, Overflowed: \u001b[36m0.0215s\u001b[0m\n"
     ]
    }
   ],
   "metadata": {}
  },
  {
   "cell_type": "code",
   "execution_count": 10,
   "source": [
    "from timequota import TimeQuota\r\n",
    "\r\n",
    "tq = TimeQuota(11, step_aggr_fn=lambda t: 3) # fixed step time\r\n",
    "\r\n",
    "for i in tq.range(8):\r\n",
    "\r\n",
    "   # ...\r\n",
    "   print(\"itr\", i+1, \": sleep 3 secs\")\r\n",
    "   time.sleep(3)\r\n",
    "   # ..."
   ],
   "outputs": [
    {
     "output_type": "stream",
     "name": "stdout",
     "text": [
      "\u001b[32mtq » \u001b[0mremaining: \u001b[36m10.9999s\u001b[0m, elapsed: \u001b[36m0.0001s\u001b[0m\n",
      "itr 1 : sleep 3 secs\n",
      "\u001b[32mtq » \u001b[0mremaining: \u001b[36m7.9859s\u001b[0m, elapsed: \u001b[36m3.0141s\u001b[0m, this step: \u001b[36m3.0140s\u001b[0m, per step: \u001b[36m3.0000s\u001b[0m\n",
      "itr 2 : sleep 3 secs\n",
      "\u001b[32mtq » \u001b[0mremaining: \u001b[36m4.9845s\u001b[0m, elapsed: \u001b[36m6.0155s\u001b[0m, this step: \u001b[36m3.0015s\u001b[0m, per step: \u001b[36m3.0000s\u001b[0m\n",
      "itr 3 : sleep 3 secs\n",
      "\u001b[32mtq » \u001b[0mremaining: \u001b[36m1.9765s\u001b[0m, elapsed: \u001b[36m9.0235s\u001b[0m, this step: \u001b[36m3.0080s\u001b[0m, per step: \u001b[36m3.0000s\u001b[0m\n",
      "\u001b[32mtq \u001b[31m⚠ TIME EXCEEDED! [Predicted]\u001b[0m Estimated: \u001b[36m12.0235s\u001b[0m, Overflow: \u001b[36m1.0235s\u001b[0m\n"
     ]
    }
   ],
   "metadata": {}
  },
  {
   "cell_type": "code",
   "execution_count": 11,
   "source": [
    "from timequota import TimeQuota\r\n",
    "\r\n",
    "tq = TimeQuota(\"inf\") # infinite time\r\n",
    "\r\n",
    "for i in tq.range(3):\r\n",
    "\r\n",
    "   # ...\r\n",
    "   print(\"itr\", i+1, \": sleep 3 secs\")\r\n",
    "   time.sleep(3)\r\n",
    "   # ..."
   ],
   "outputs": [
    {
     "output_type": "stream",
     "name": "stdout",
     "text": [
      "\u001b[32mtq » \u001b[0mremaining: \u001b[36minf\u001b[0m, elapsed: \u001b[36m0.0001s\u001b[0m\n",
      "itr 1 : sleep 3 secs\n",
      "\u001b[32mtq » \u001b[0mremaining: \u001b[36minf\u001b[0m, elapsed: \u001b[36m3.0007s\u001b[0m, this step: \u001b[36m3.0006s\u001b[0m, per step: \u001b[36m3.0006s\u001b[0m\n",
      "itr 2 : sleep 3 secs\n",
      "\u001b[32mtq » \u001b[0mremaining: \u001b[36minf\u001b[0m, elapsed: \u001b[36m6.0153s\u001b[0m, this step: \u001b[36m3.0146s\u001b[0m, per step: \u001b[36m3.0076s\u001b[0m\n",
      "itr 3 : sleep 3 secs\n",
      "\u001b[32mtq » \u001b[0mremaining: \u001b[36minf\u001b[0m, elapsed: \u001b[36m9.0216s\u001b[0m, this step: \u001b[36m3.0063s\u001b[0m, per step: \u001b[36m3.0072s\u001b[0m\n"
     ]
    }
   ],
   "metadata": {}
  },
  {
   "cell_type": "markdown",
   "source": [
    "## Extras"
   ],
   "metadata": {}
  },
  {
   "cell_type": "code",
   "execution_count": 12,
   "source": [
    "tq = TimeQuota(2.5, \"h\", \"s\", name=\"my-tq\") # 2.5 hours quota with seconds as display"
   ],
   "outputs": [],
   "metadata": {}
  },
  {
   "cell_type": "code",
   "execution_count": 13,
   "source": [
    "print(tq)"
   ],
   "outputs": [
    {
     "output_type": "stream",
     "name": "stdout",
     "text": [
      "\u001b[32mmy-tq\u001b[0m                      \u001b[33mTime\u001b[0m    \u001b[33mTime (s)\u001b[0m\n",
      "--------------  ---------------  ----------\n",
      "Time Quota      \u001b[36m00d 02h 30m 00s\u001b[0m  \u001b[36m9000.0000s\u001b[0m\n",
      "Time Elapsed    \u001b[36m00d 00h 00m 00s\u001b[0m           \u001b[36m―\u001b[0m\n",
      "Time Remaining  \u001b[36m00d 02h 30m 00s\u001b[0m  \u001b[36m9000.0000s\u001b[0m\n",
      "Time Per Step   \u001b[36m00d 00h 00m 00s\u001b[0m           \u001b[36m―\u001b[0m\n",
      "Time Exceeded             \u001b[36mFalse\u001b[0m       \u001b[36mFalse\u001b[0m\n"
     ]
    }
   ],
   "metadata": {}
  },
  {
   "cell_type": "code",
   "execution_count": 14,
   "source": [
    "repr(tq)"
   ],
   "outputs": [
    {
     "output_type": "execute_result",
     "data": {
      "text/plain": [
       "\"TimeQuota(2.5, 'h', 's', name='my-tq', step_aggr_fn=<function mean at 0x000001C1830090D0>, timer_fn=<built-in function perf_counter>, logger_fn=<built-in function print>, precision=4, color=True, verbose=True)\""
      ]
     },
     "metadata": {},
     "execution_count": 14
    }
   ],
   "metadata": {}
  },
  {
   "cell_type": "markdown",
   "source": [
    "---"
   ],
   "metadata": {}
  }
 ]
}