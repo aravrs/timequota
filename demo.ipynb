{
 "cells": [
  {
   "cell_type": "markdown",
   "metadata": {},
   "source": [
    "# Time Quota\n",
    "\n",
    "[[PyPI]](https://pypi.org/project/timequota/)\n",
    "[[GitHub]](https://github.com/AravRS/timequota)\n",
    "[[Docs]](https://aravrs.github.io/timequota/timequota)\n",
    "[[Changelog]](https://github.com/AravRS/timequota/blob/main/CHANGELOG.md)\n",
    "\n",
    "## `pip install -U timequota`\n",
    "\n",
    "---"
   ]
  },
  {
   "cell_type": "code",
   "execution_count": 1,
   "metadata": {},
   "outputs": [],
   "source": [
    "! pip install -U timequota --quiet"
   ]
  },
  {
   "cell_type": "code",
   "execution_count": 2,
   "metadata": {},
   "outputs": [
    {
     "name": "stdout",
     "output_type": "stream",
     "text": [
      "Version 0.0.6\n"
     ]
    }
   ],
   "source": [
    "import random, time\n",
    "\n",
    "import timequota\n",
    "print(\"Version\", timequota.__version__) # version check"
   ]
  },
  {
   "cell_type": "markdown",
   "metadata": {},
   "source": [
    "# Demo"
   ]
  },
  {
   "cell_type": "markdown",
   "metadata": {},
   "source": [
    "## Simple"
   ]
  },
  {
   "cell_type": "code",
   "execution_count": 3,
   "metadata": {},
   "outputs": [
    {
     "name": "stdout",
     "output_type": "stream",
     "text": [
      "Initial Quota 16 secs\n",
      "\n",
      "sleep 5 secs\n",
      "\n",
      "Start loop\n",
      "\u001b[32msimple-quota » \u001b[0mremaining: \u001b[36m10.9948s\u001b[0m, elapsed: \u001b[36m5.0052s\u001b[0m\n",
      "itr 1 : sleep 2 secs\n",
      "\u001b[32msimple-quota » \u001b[0mremaining: \u001b[36m8.9923s\u001b[0m, elapsed: \u001b[36m7.0077s\u001b[0m, this step: \u001b[36m2.0025s\u001b[0m, per step: \u001b[36m2.0025s\u001b[0m\n",
      "itr 2 : sleep 2 secs\n",
      "\u001b[32msimple-quota » \u001b[0mremaining: \u001b[36m6.9797s\u001b[0m, elapsed: \u001b[36m9.0203s\u001b[0m, this step: \u001b[36m2.0126s\u001b[0m, per step: \u001b[36m2.0076s\u001b[0m\n",
      "itr 3 : sleep 2 secs\n",
      "\u001b[32msimple-quota » \u001b[0mremaining: \u001b[36m4.9713s\u001b[0m, elapsed: \u001b[36m11.0287s\u001b[0m, this step: \u001b[36m2.0084s\u001b[0m, per step: \u001b[36m2.0078s\u001b[0m\n",
      "itr 4 : sleep 2 secs\n",
      "\u001b[32msimple-quota » \u001b[0mremaining: \u001b[36m2.9698s\u001b[0m, elapsed: \u001b[36m13.0302s\u001b[0m, this step: \u001b[36m2.0014s\u001b[0m, per step: \u001b[36m2.0062s\u001b[0m\n",
      "itr 5 : sleep 2 secs\n",
      "\u001b[32msimple-quota » \u001b[0mremaining: \u001b[36m0.9676s\u001b[0m, elapsed: \u001b[36m15.0324s\u001b[0m, this step: \u001b[36m2.0022s\u001b[0m, per step: \u001b[36m2.0054s\u001b[0m\n",
      "\u001b[32msimple-quota \u001b[31m⚠ TIME EXCEEDED! [Predicted]\u001b[0m Estimated: \u001b[36m17.0378s\u001b[0m, Overflow: \u001b[36m1.0378s\u001b[0m\n",
      "Times up!\n"
     ]
    }
   ],
   "source": [
    "from timequota import TimeQuota\n",
    "\n",
    "print(\"Initial Quota 16 secs\\n\")\n",
    "tq = TimeQuota(16, name=\"simple-quota\") # initialize quota to 16 seconds\n",
    "\n",
    "# do fancy pre-processing stuff (assuming it does not exceed the quota)\n",
    "print(\"sleep 5 secs\")\n",
    "time.sleep(5)\n",
    "# ...\n",
    "\n",
    "print(\"\\nStart loop\")\n",
    "for i in tq.range(8, time_exceeded_fn=lambda: print(\"Times up!\")):\n",
    "\n",
    "    # do more fancy stuff, but in a loop\n",
    "    print(\"itr\", i+1, \": sleep 2 secs\")\n",
    "    time.sleep(2)\n",
    "    # ..."
   ]
  },
  {
   "cell_type": "code",
   "execution_count": 4,
   "metadata": {},
   "outputs": [
    {
     "name": "stdout",
     "output_type": "stream",
     "text": [
      "\u001b[32msimple-quota » \u001b[0mremaining: \u001b[36m10.9997s\u001b[0m, elapsed: \u001b[36m0.0003s\u001b[0m\n",
      "itr 1 : sleep 2 secs\n",
      "\u001b[32msimple-quota » \u001b[0mremaining: \u001b[36m8.9874s\u001b[0m, elapsed: \u001b[36m2.0126s\u001b[0m, this step: \u001b[36m2.0123s\u001b[0m, per step: \u001b[36m2.0123s\u001b[0m\n",
      "itr 2 : sleep 2 secs\n",
      "\u001b[32msimple-quota » \u001b[0mremaining: \u001b[36m6.9827s\u001b[0m, elapsed: \u001b[36m4.0173s\u001b[0m, this step: \u001b[36m2.0046s\u001b[0m, per step: \u001b[36m2.0085s\u001b[0m\n",
      "itr 3 : sleep 2 secs\n",
      "\u001b[32msimple-quota » \u001b[0mremaining: \u001b[36m4.9812s\u001b[0m, elapsed: \u001b[36m6.0188s\u001b[0m, this step: \u001b[36m2.0016s\u001b[0m, per step: \u001b[36m2.0062s\u001b[0m\n",
      "itr 4 : sleep 2 secs\n",
      "\u001b[32msimple-quota » \u001b[0mremaining: \u001b[36m2.9743s\u001b[0m, elapsed: \u001b[36m8.0257s\u001b[0m, this step: \u001b[36m2.0069s\u001b[0m, per step: \u001b[36m2.0064s\u001b[0m\n",
      "itr 5 : sleep 2 secs\n",
      "\u001b[32msimple-quota » \u001b[0mremaining: \u001b[36m0.9708s\u001b[0m, elapsed: \u001b[36m10.0292s\u001b[0m, this step: \u001b[36m2.0035s\u001b[0m, per step: \u001b[36m2.0058s\u001b[0m\n",
      "\u001b[32msimple-quota \u001b[31m⚠ TIME EXCEEDED! [Predicted]\u001b[0m Estimated: \u001b[36m12.0350s\u001b[0m, Overflow: \u001b[36m1.0350s\u001b[0m\n",
      "Times up!\n"
     ]
    }
   ],
   "source": [
    "from timequota import TimeQuota\n",
    "\n",
    "for i in TimeQuota(11, name=\"simple-quota\").range(8, time_exceeded_fn=lambda: print(\"Times up!\")):\n",
    "\n",
    "    # ...\n",
    "    print(\"itr\", i+1, \": sleep 2 secs\")\n",
    "    time.sleep(2)\n",
    "    # ..."
   ]
  },
  {
   "cell_type": "code",
   "execution_count": 5,
   "metadata": {},
   "outputs": [
    {
     "name": "stdout",
     "output_type": "stream",
     "text": [
      "\u001b[32msimple-quota\u001b[0m               \u001b[33mTime\u001b[0m    \u001b[33mTime (s)\u001b[0m\n",
      "--------------  ---------------  ----------\n",
      "Time Quota      \u001b[36m00d 00h 00m 16s\u001b[0m    \u001b[36m16.0000s\u001b[0m\n",
      "Time Elapsed    \u001b[36m00d 00h 00m 15s\u001b[0m    \u001b[36m15.0324s\u001b[0m\n",
      "Time Remaining  \u001b[36m00d 00h 00m 01s\u001b[0m     \u001b[36m0.9676s\u001b[0m\n",
      "Time Per Step   \u001b[36m00d 00h 00m 02s\u001b[0m     \u001b[36m2.0054s\u001b[0m\n",
      "Time Exceeded         \u001b[31mPredicted\u001b[0m   \u001b[31mPredicted\u001b[0m\n"
     ]
    }
   ],
   "source": [
    "print(tq)"
   ]
  },
  {
   "cell_type": "markdown",
   "metadata": {},
   "source": [
    "## Complex"
   ]
  },
  {
   "cell_type": "code",
   "execution_count": 6,
   "metadata": {},
   "outputs": [
    {
     "name": "stdout",
     "output_type": "stream",
     "text": [
      "Initial Quota 16 secs\n",
      "\n",
      "sleep 5 secs\n",
      "\u001b[32mcomplex-quota » \u001b[0mremaining: \u001b[36m10.9898s\u001b[0m, elapsed: \u001b[36m5.0102s\u001b[0m\n",
      "\n",
      "Start loop\n",
      "itr 1 : sleep 2 secs\n",
      "\u001b[32mcomplex-quota » \u001b[0mremaining: \u001b[36m8.9861s\u001b[0m, elapsed: \u001b[36m7.0139s\u001b[0m, this step: \u001b[36m2.0037s\u001b[0m, per step: \u001b[36m2.0037s\u001b[0m\n",
      "itr 2 : sleep 2 secs\n",
      "\u001b[32mcomplex-quota » \u001b[0mremaining: \u001b[36m6.9837s\u001b[0m, elapsed: \u001b[36m9.0163s\u001b[0m, this step: \u001b[36m2.0024s\u001b[0m, per step: \u001b[36m2.0030s\u001b[0m\n",
      "itr 3 : sleep 2 secs\n",
      "\u001b[32mcomplex-quota » \u001b[0mremaining: \u001b[36m4.9803s\u001b[0m, elapsed: \u001b[36m11.0197s\u001b[0m, this step: \u001b[36m2.0034s\u001b[0m, per step: \u001b[36m2.0032s\u001b[0m\n",
      "itr 4 : sleep 2 secs\n",
      "\u001b[32mcomplex-quota » \u001b[0mremaining: \u001b[36m2.9784s\u001b[0m, elapsed: \u001b[36m13.0216s\u001b[0m, this step: \u001b[36m2.0020s\u001b[0m, per step: \u001b[36m2.0029s\u001b[0m\n",
      "itr 5 : sleep 2 secs\n",
      "\u001b[32mcomplex-quota » \u001b[0mremaining: \u001b[36m0.9640s\u001b[0m, elapsed: \u001b[36m15.0360s\u001b[0m, this step: \u001b[36m2.0143s\u001b[0m, per step: \u001b[36m2.0052s\u001b[0m\n",
      "\u001b[32mcomplex-quota \u001b[31m⚠ TIME EXCEEDED! [Predicted]\u001b[0m Estimated: \u001b[36m17.0411s\u001b[0m, Overflow: \u001b[36m1.0411s\u001b[0m\n",
      "Times up!\n"
     ]
    }
   ],
   "source": [
    "from timequota import TimeQuota\n",
    "\n",
    "print(\"Initial Quota 16 secs\\n\")\n",
    "tq = TimeQuota(16, name=\"complex-quota\") # initialize quota to 16 seconds\n",
    "\n",
    "# do fancy pre-processing stuff\n",
    "print(\"sleep 5 secs\")\n",
    "time.sleep(5)\n",
    "# ...\n",
    "\n",
    "exceeded = tq.update() # update time quota\n",
    "\n",
    "if not exceeded:\n",
    "    print(\"\\nStart loop\")\n",
    "    for i in range(8):\n",
    "\n",
    "        # do more fancy stuff, but in a loop\n",
    "        print(\"itr\", i+1, \": sleep 2 secs\")\n",
    "        time.sleep(2)\n",
    "        # ...\n",
    "\n",
    "        exceeded = tq.track() # track time quota\n",
    "        if exceeded: # if out of time\n",
    "\n",
    "            # do fancy post-processing stuff\n",
    "            print(\"Times up!\")\n",
    "            break # end loop"
   ]
  },
  {
   "cell_type": "code",
   "execution_count": 7,
   "metadata": {},
   "outputs": [
    {
     "name": "stdout",
     "output_type": "stream",
     "text": [
      "\u001b[32mcomplex-quota\u001b[0m               \u001b[33mTime\u001b[0m    \u001b[33mTime (s)\u001b[0m\n",
      "---------------  ---------------  ----------\n",
      "Time Quota       \u001b[36m00d 00h 00m 16s\u001b[0m    \u001b[36m16.0000s\u001b[0m\n",
      "Time Elapsed     \u001b[36m00d 00h 00m 15s\u001b[0m    \u001b[36m15.0360s\u001b[0m\n",
      "Time Remaining   \u001b[36m00d 00h 00m 01s\u001b[0m     \u001b[36m0.9640s\u001b[0m\n",
      "Time Per Step    \u001b[36m00d 00h 00m 02s\u001b[0m     \u001b[36m2.0052s\u001b[0m\n",
      "Time Exceeded          \u001b[31mPredicted\u001b[0m   \u001b[31mPredicted\u001b[0m\n"
     ]
    }
   ],
   "source": [
    "print(tq)"
   ]
  },
  {
   "cell_type": "markdown",
   "metadata": {},
   "source": [
    "## Other"
   ]
  },
  {
   "cell_type": "code",
   "execution_count": 8,
   "metadata": {},
   "outputs": [
    {
     "name": "stdout",
     "output_type": "stream",
     "text": [
      "\u001b[32mtq » \u001b[0mremaining: \u001b[36m9.9998s\u001b[0m, elapsed: \u001b[36m0.0002s\u001b[0m\n",
      "iterable : a\n",
      "\u001b[32mtq » \u001b[0mremaining: \u001b[36m7.0036s\u001b[0m, elapsed: \u001b[36m2.9964s\u001b[0m, this step: \u001b[36m2.9962s\u001b[0m, per step: \u001b[36m2.9962s\u001b[0m\n",
      "iterable : b\n",
      "\u001b[32mtq » \u001b[0mremaining: \u001b[36m3.9919s\u001b[0m, elapsed: \u001b[36m6.0081s\u001b[0m, this step: \u001b[36m3.0116s\u001b[0m, per step: \u001b[36m3.0039s\u001b[0m\n",
      "iterable : c\n",
      "\u001b[32mtq » \u001b[0mremaining: \u001b[36m0.9898s\u001b[0m, elapsed: \u001b[36m9.0102s\u001b[0m, this step: \u001b[36m3.0022s\u001b[0m, per step: \u001b[36m3.0033s\u001b[0m\n",
      "\u001b[32mtq \u001b[31m⚠ TIME EXCEEDED! [Predicted]\u001b[0m Estimated: \u001b[36m12.0136s\u001b[0m, Overflow: \u001b[36m2.0136s\u001b[0m\n"
     ]
    }
   ],
   "source": [
    "from timequota import TimeQuota\n",
    "\n",
    "tq = TimeQuota(10, \"s\")\n",
    "\n",
    "for el in tq.iter([\"a\", \"b\", \"c\", \"d\", \"e\", \"f\"]):  # iterables\n",
    "\n",
    "   # ...\n",
    "   print(\"iterable :\", el)\n",
    "   time.sleep(3)\n",
    "   # ..."
   ]
  },
  {
   "cell_type": "code",
   "execution_count": 9,
   "metadata": {},
   "outputs": [
    {
     "name": "stdout",
     "output_type": "stream",
     "text": [
      "\u001b[32mtq » \u001b[0mremaining: \u001b[36m0.0028h\u001b[0m, elapsed: \u001b[36m0.0000h\u001b[0m\n",
      "itr 1 : sleep 3 secs\n",
      "\u001b[32mtq » \u001b[0mremaining: \u001b[36m0.0019h\u001b[0m, elapsed: \u001b[36m0.0008h\u001b[0m, this step: \u001b[36m0.0008h\u001b[0m, per step: \u001b[36m0.0008h\u001b[0m\n",
      "itr 2 : sleep 3 secs\n",
      "\u001b[32mtq » \u001b[0mremaining: \u001b[36m0.0011h\u001b[0m, elapsed: \u001b[36m0.0017h\u001b[0m, this step: \u001b[36m0.0008h\u001b[0m, per step: \u001b[36m0.0008h\u001b[0m\n",
      "itr 3 : sleep 3 secs\n",
      "\u001b[32mtq » \u001b[0mremaining: \u001b[36m0.0003h\u001b[0m, elapsed: \u001b[36m0.0025h\u001b[0m, this step: \u001b[36m0.0008h\u001b[0m, per step: \u001b[36m0.0008h\u001b[0m\n",
      "\u001b[32mtq \u001b[31m⚠ TIME EXCEEDED! [Predicted]\u001b[0m Estimated: \u001b[36m0.0033h\u001b[0m, Overflow: \u001b[36m0.0006h\u001b[0m\n"
     ]
    }
   ],
   "source": [
    "from timequota import TimeQuota\n",
    "\n",
    "tq = TimeQuota(1/6, \"m\", \"h\") # custom time modes\n",
    "\n",
    "for i in tq.range(8):\n",
    "\n",
    "   # ...\n",
    "   print(\"itr\", i+1, \": sleep 3 secs\")\n",
    "   time.sleep(3)\n",
    "   # ..."
   ]
  },
  {
   "cell_type": "code",
   "execution_count": 10,
   "metadata": {},
   "outputs": [
    {
     "name": "stdout",
     "output_type": "stream",
     "text": [
      "\u001b[32mtq » \u001b[0mremaining: \u001b[36m10.9997s\u001b[0m, elapsed: \u001b[36m0.0003s\u001b[0m\n",
      "itr 1 : sleep 5 secs\n",
      "\u001b[32mtq » \u001b[0mremaining: \u001b[36m5.9945s\u001b[0m, elapsed: \u001b[36m5.0055s\u001b[0m, this step: \u001b[36m5.0052s\u001b[0m, per step: \u001b[36m5.0052s\u001b[0m\n",
      "itr 2 : sleep 5 secs\n",
      "\u001b[32mtq » \u001b[0mremaining: \u001b[36m0.9828s\u001b[0m, elapsed: \u001b[36m10.0172s\u001b[0m, this step: \u001b[36m5.0117s\u001b[0m, per step: \u001b[36m5.0084s\u001b[0m\n",
      "\u001b[32mtq \u001b[31m⚠ TIME EXCEEDED! [Predicted]\u001b[0m Estimated: \u001b[36m15.0256s\u001b[0m, Overflow: \u001b[36m4.0256s\u001b[0m\n"
     ]
    }
   ],
   "source": [
    "import numpy\n",
    "from timequota import TimeQuota\n",
    "\n",
    "tq = TimeQuota(11, step_aggr_fn=numpy.median) # custom step aggregate function\n",
    "\n",
    "for i in tq.range(8):\n",
    "\n",
    "    # ...\n",
    "    sleep_time = random.randint(1, 5)\n",
    "    print(\"itr\", i+1, f\": sleep {sleep_time} secs\")\n",
    "    time.sleep(sleep_time)\n",
    "    # ..."
   ]
  },
  {
   "cell_type": "code",
   "execution_count": 11,
   "metadata": {},
   "outputs": [
    {
     "name": "stdout",
     "output_type": "stream",
     "text": [
      "\u001b[32mtq » \u001b[0mremaining: \u001b[36m10.9997s\u001b[0m, elapsed: \u001b[36m0.0003s\u001b[0m\n",
      "itr 1 : sleep 3 secs\n",
      "\u001b[32mtq » \u001b[0mremaining: \u001b[36m8.0001s\u001b[0m, elapsed: \u001b[36m2.9999s\u001b[0m, this step: \u001b[36m2.9996s\u001b[0m, per step: \u001b[36m3.0000s\u001b[0m\n",
      "itr 2 : sleep 3 secs\n",
      "\u001b[32mtq » \u001b[0mremaining: \u001b[36m4.9969s\u001b[0m, elapsed: \u001b[36m6.0031s\u001b[0m, this step: \u001b[36m3.0032s\u001b[0m, per step: \u001b[36m3.0000s\u001b[0m\n",
      "itr 3 : sleep 3 secs\n",
      "\u001b[32mtq » \u001b[0mremaining: \u001b[36m1.9859s\u001b[0m, elapsed: \u001b[36m9.0141s\u001b[0m, this step: \u001b[36m3.0110s\u001b[0m, per step: \u001b[36m3.0000s\u001b[0m\n",
      "\u001b[32mtq \u001b[31m⚠ TIME EXCEEDED! [Predicted]\u001b[0m Estimated: \u001b[36m12.0141s\u001b[0m, Overflow: \u001b[36m1.0141s\u001b[0m\n"
     ]
    }
   ],
   "source": [
    "from timequota import TimeQuota\n",
    "\n",
    "tq = TimeQuota(11, step_aggr_fn=lambda t: 3) # fixed step time\n",
    "\n",
    "for i in tq.range(8):\n",
    "\n",
    "   # ...\n",
    "   print(\"itr\", i+1, \": sleep 3 secs\")\n",
    "   time.sleep(3)\n",
    "   # ..."
   ]
  },
  {
   "cell_type": "code",
   "execution_count": 12,
   "metadata": {},
   "outputs": [
    {
     "name": "stdout",
     "output_type": "stream",
     "text": [
      "\u001b[32mtq » \u001b[0mremaining: \u001b[36minf\u001b[0m, elapsed: \u001b[36m0.0003s\u001b[0m\n",
      "itr 1 : sleep 3 secs\n",
      "\u001b[32mtq » \u001b[0mremaining: \u001b[36minf\u001b[0m, elapsed: \u001b[36m3.0056s\u001b[0m, this step: \u001b[36m3.0053s\u001b[0m, per step: \u001b[36m3.0053s\u001b[0m\n",
      "itr 2 : sleep 3 secs\n",
      "\u001b[32mtq » \u001b[0mremaining: \u001b[36minf\u001b[0m, elapsed: \u001b[36m6.0132s\u001b[0m, this step: \u001b[36m3.0076s\u001b[0m, per step: \u001b[36m3.0064s\u001b[0m\n",
      "itr 3 : sleep 3 secs\n",
      "\u001b[32mtq » \u001b[0mremaining: \u001b[36minf\u001b[0m, elapsed: \u001b[36m9.0267s\u001b[0m, this step: \u001b[36m3.0135s\u001b[0m, per step: \u001b[36m3.0088s\u001b[0m\n"
     ]
    }
   ],
   "source": [
    "from timequota import TimeQuota\n",
    "\n",
    "tq = TimeQuota(float(\"inf\")) # infinite time\n",
    "\n",
    "for i in tq.range(3):\n",
    "\n",
    "   # ...\n",
    "   print(\"itr\", i+1, \": sleep 3 secs\")\n",
    "   time.sleep(3)\n",
    "   # ..."
   ]
  },
  {
   "cell_type": "markdown",
   "metadata": {},
   "source": [
    "## Extras"
   ]
  },
  {
   "cell_type": "code",
   "execution_count": 13,
   "metadata": {},
   "outputs": [],
   "source": [
    "tq = TimeQuota(2.5, \"h\", \"s\", name=\"my-tq\") # 2.5 hours quota with seconds as display"
   ]
  },
  {
   "cell_type": "code",
   "execution_count": 14,
   "metadata": {},
   "outputs": [
    {
     "name": "stdout",
     "output_type": "stream",
     "text": [
      "\u001b[32mmy-tq\u001b[0m                      \u001b[33mTime\u001b[0m    \u001b[33mTime (s)\u001b[0m\n",
      "--------------  ---------------  ----------\n",
      "Time Quota      \u001b[36m00d 02h 30m 00s\u001b[0m  \u001b[36m9000.0000s\u001b[0m\n",
      "Time Elapsed    \u001b[36m00d 00h 00m 00s\u001b[0m           \u001b[36m―\u001b[0m\n",
      "Time Remaining  \u001b[36m00d 02h 30m 00s\u001b[0m  \u001b[36m9000.0000s\u001b[0m\n",
      "Time Per Step   \u001b[36m00d 00h 00m 00s\u001b[0m           \u001b[36m―\u001b[0m\n",
      "Time Exceeded             \u001b[36mFalse\u001b[0m       \u001b[36mFalse\u001b[0m\n"
     ]
    }
   ],
   "source": [
    "print(tq)"
   ]
  },
  {
   "cell_type": "code",
   "execution_count": 15,
   "metadata": {},
   "outputs": [
    {
     "data": {
      "text/plain": [
       "\"TimeQuota(2.5, 'h', 's', name='my-tq', step_aggr_fn=<function mean at 0x000002B7EBD8A670>, timer_fn=<built-in function perf_counter>, logger_fn=<built-in function print>, precision=4, color=True, verbose=True)\""
      ]
     },
     "execution_count": 15,
     "metadata": {},
     "output_type": "execute_result"
    }
   ],
   "source": [
    "repr(tq)"
   ]
  },
  {
   "cell_type": "markdown",
   "metadata": {},
   "source": [
    "---"
   ]
  }
 ],
 "metadata": {
  "interpreter": {
   "hash": "b07c60f383be40839630c0cb915c21e268aa3d89e9ae7cac62c21612f79f9551"
  },
  "kernelspec": {
   "display_name": "Python 3.9.6 64-bit ('timequota-h7_JfHWb-py3.9': poetry)",
   "name": "python3"
  },
  "language_info": {
   "codemirror_mode": {
    "name": "ipython",
    "version": 3
   },
   "file_extension": ".py",
   "mimetype": "text/x-python",
   "name": "python",
   "nbconvert_exporter": "python",
   "pygments_lexer": "ipython3",
   "version": "3.9.6"
  },
  "orig_nbformat": 2
 },
 "nbformat": 4,
 "nbformat_minor": 2
}
