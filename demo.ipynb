{
 "metadata": {
  "language_info": {
   "codemirror_mode": {
    "name": "ipython",
    "version": 3
   },
   "file_extension": ".py",
   "mimetype": "text/x-python",
   "name": "python",
   "nbconvert_exporter": "python",
   "pygments_lexer": "ipython3",
   "version": "3.8.5"
  },
  "orig_nbformat": 2,
  "kernelspec": {
   "name": "python3",
   "display_name": "Python 3.8.5 64-bit ('kml': conda)"
  },
  "interpreter": {
   "hash": "a221e7b1045155a106a89eeba4e491bb64159ebf7fac1b55199e0690dfd4a39e"
  }
 },
 "nbformat": 4,
 "nbformat_minor": 2,
 "cells": [
  {
   "cell_type": "markdown",
   "source": [
    "# Time Quota\n",
    "\n",
    "## `pip install -U timequota`\n",
    "\n",
    "---"
   ],
   "metadata": {}
  },
  {
   "cell_type": "code",
   "execution_count": 1,
   "source": [
    "import random, time\r\n",
    "import timequota; timequota.__version__ # version check"
   ],
   "outputs": [
    {
     "output_type": "execute_result",
     "data": {
      "text/plain": [
       "'0.0.3'"
      ]
     },
     "metadata": {},
     "execution_count": 1
    }
   ],
   "metadata": {}
  },
  {
   "cell_type": "markdown",
   "source": [
    "# Demo"
   ],
   "metadata": {}
  },
  {
   "cell_type": "markdown",
   "source": [
    "## Simple"
   ],
   "metadata": {}
  },
  {
   "cell_type": "code",
   "execution_count": 2,
   "source": [
    "from timequota import TimeQuota\r\n",
    "\r\n",
    "print(\"Initial Quota 16 secs\\n\")\r\n",
    "tq = TimeQuota(16, name=\"simple-quota\") # initialize quota to 16 seconds\r\n",
    "\r\n",
    "# do fancy pre-processing stuff (assuming it does not exceed the quota)\r\n",
    "print(\"sleep 5 secs\")\r\n",
    "time.sleep(5)\r\n",
    "# ...\r\n",
    "\r\n",
    "print(\"\\nStart loop\")\r\n",
    "for i in tq.range(8, time_exceeded_fn=lambda: print(\"Times up!\")):\r\n",
    "\r\n",
    "    # do more fancy stuff, but in a loop\r\n",
    "    print(\"itr\", i+1, \": sleep 2 secs\")\r\n",
    "    time.sleep(2)\r\n",
    "    # ..."
   ],
   "outputs": [
    {
     "output_type": "stream",
     "name": "stdout",
     "text": [
      "Initial Quota 16 secs\n",
      "\n",
      "sleep 5 secs\n",
      "\n",
      "Start loop\n",
      "simple-quota > time remaining: 10.9871 secs | time elapsed: 5.0129 secs\n",
      "\n",
      "itr 1 : sleep 2 secs\n",
      "simple-quota > time remaining: 8.9721 secs | time elapsed: 7.0279 secs | time this step: 2.0150 secs | time per step: 2.0150 secs\n",
      "itr 2 : sleep 2 secs\n",
      "simple-quota > time remaining: 6.9700 secs | time elapsed: 9.0300 secs | time this step: 2.0021 secs | time per step: 2.0085 secs\n",
      "itr 3 : sleep 2 secs\n",
      "simple-quota > time remaining: 4.9658 secs | time elapsed: 11.0342 secs | time this step: 2.0043 secs | time per step: 2.0071 secs\n",
      "itr 4 : sleep 2 secs\n",
      "simple-quota > time remaining: 2.9553 secs | time elapsed: 13.0447 secs | time this step: 2.0105 secs | time per step: 2.0080 secs\n",
      "itr 5 : sleep 2 secs\n",
      "simple-quota > time remaining: 0.9515 secs | time elapsed: 15.0485 secs | time this step: 2.0038 secs | time per step: 2.0071 secs\n",
      "\n",
      "simple-quota > TIME EXCEEDED! Estimated: 17.0556 secs\n",
      "Times up!\n"
     ]
    }
   ],
   "metadata": {}
  },
  {
   "cell_type": "code",
   "execution_count": 3,
   "source": [
    "from timequota import TimeQuota\r\n",
    "\r\n",
    "for i in TimeQuota(11, name=\"simple-quota\").range(8, time_exceeded_fn=lambda: print(\"Times up!\")):\r\n",
    "\r\n",
    "    # ...\r\n",
    "    print(\"itr\", i+1, \": sleep 2 secs\")\r\n",
    "    time.sleep(2)\r\n",
    "    # ..."
   ],
   "outputs": [
    {
     "output_type": "stream",
     "name": "stdout",
     "text": [
      "simple-quota > time remaining: 11.0000 secs | time elapsed: -\n",
      "\n",
      "itr 1 : sleep 2 secs\n",
      "simple-quota > time remaining: 8.9917 secs | time elapsed: 2.0083 secs | time this step: 2.0083 secs | time per step: 2.0083 secs\n",
      "itr 2 : sleep 2 secs\n",
      "simple-quota > time remaining: 6.9794 secs | time elapsed: 4.0206 secs | time this step: 2.0122 secs | time per step: 2.0103 secs\n",
      "itr 3 : sleep 2 secs\n",
      "simple-quota > time remaining: 4.9650 secs | time elapsed: 6.0350 secs | time this step: 2.0145 secs | time per step: 2.0117 secs\n",
      "itr 4 : sleep 2 secs\n",
      "simple-quota > time remaining: 2.9519 secs | time elapsed: 8.0481 secs | time this step: 2.0131 secs | time per step: 2.0120 secs\n",
      "itr 5 : sleep 2 secs\n",
      "simple-quota > time remaining: 0.9377 secs | time elapsed: 10.0623 secs | time this step: 2.0142 secs | time per step: 2.0125 secs\n",
      "\n",
      "simple-quota > TIME EXCEEDED! Estimated: 12.0748 secs\n",
      "Times up!\n"
     ]
    }
   ],
   "metadata": {}
  },
  {
   "cell_type": "markdown",
   "source": [
    "## Complex"
   ],
   "metadata": {}
  },
  {
   "cell_type": "code",
   "execution_count": 4,
   "source": [
    "from timequota import TimeQuota\r\n",
    "\r\n",
    "print(\"Initial Quota 16 secs\\n\")\r\n",
    "tq = TimeQuota(16, name=\"complex-quota\") # initialize quota to 16 seconds\r\n",
    "\r\n",
    "# do fancy pre-processing stuff\r\n",
    "print(\"sleep 5 secs\")\r\n",
    "time.sleep(5)\r\n",
    "# ...\r\n",
    "\r\n",
    "tq.update() # update time quota\r\n",
    "\r\n",
    "print(\"\\nStart loop\")\r\n",
    "for i in range(8):\r\n",
    "\r\n",
    "    # do more fancy stuff, but in a loop\r\n",
    "    print(\"itr\", i+1, \": sleep 2 secs\")\r\n",
    "    time.sleep(2)\r\n",
    "    # ...\r\n",
    "\r\n",
    "    exceeded = tq.track() # track time quota\r\n",
    "    if exceeded: # if out of time\r\n",
    "\r\n",
    "        # do fancy post-processing stuff\r\n",
    "        print(\"Times up!\")\r\n",
    "        break # end loop"
   ],
   "outputs": [
    {
     "output_type": "stream",
     "name": "stdout",
     "text": [
      "Initial Quota 16 secs\n",
      "\n",
      "sleep 5 secs\n",
      "complex-quota > time remaining: 10.9961 secs | time elapsed: 5.0039 secs\n",
      "\n",
      "Start loop\n",
      "itr 1 : sleep 2 secs\n",
      "complex-quota > time remaining: 8.9914 secs | time elapsed: 7.0086 secs | time this step: 2.0047 secs | time per step: 2.0047 secs\n",
      "itr 2 : sleep 2 secs\n",
      "complex-quota > time remaining: 6.9835 secs | time elapsed: 9.0165 secs | time this step: 2.0080 secs | time per step: 2.0063 secs\n",
      "itr 3 : sleep 2 secs\n",
      "complex-quota > time remaining: 4.9698 secs | time elapsed: 11.0302 secs | time this step: 2.0136 secs | time per step: 2.0088 secs\n",
      "itr 4 : sleep 2 secs\n",
      "complex-quota > time remaining: 2.9597 secs | time elapsed: 13.0403 secs | time this step: 2.0101 secs | time per step: 2.0091 secs\n",
      "itr 5 : sleep 2 secs\n",
      "complex-quota > time remaining: 0.9580 secs | time elapsed: 15.0420 secs | time this step: 2.0018 secs | time per step: 2.0076 secs\n",
      "\n",
      "complex-quota > TIME EXCEEDED! Estimated: 17.0497 secs\n",
      "Times up!\n"
     ]
    }
   ],
   "metadata": {}
  },
  {
   "cell_type": "markdown",
   "source": [
    "## Other"
   ],
   "metadata": {}
  },
  {
   "cell_type": "code",
   "execution_count": 5,
   "source": [
    "from timequota import TimeQuota\r\n",
    "\r\n",
    "tq = TimeQuota(1/6, \"m\", \"p\") # custom time modes\r\n",
    "\r\n",
    "for i in tq.range(8):\r\n",
    "\r\n",
    "   # ...\r\n",
    "    print(\"itr\", i+1, \": sleep 3 secs\")\r\n",
    "    time.sleep(3)\r\n",
    "    # ..."
   ],
   "outputs": [
    {
     "output_type": "stream",
     "name": "stdout",
     "text": [
      "tq > time remaining: 10s | time elapsed: -\n",
      "\n",
      "itr 1 : sleep 3 secs\n",
      "tq > time remaining: 07s | time elapsed: 03s | time this step: 03s | time per step: 03s\n",
      "itr 2 : sleep 3 secs\n",
      "tq > time remaining: 04s | time elapsed: 06s | time this step: 03s | time per step: 03s\n",
      "itr 3 : sleep 3 secs\n",
      "tq > time remaining: 01s | time elapsed: 09s | time this step: 03s | time per step: 03s\n",
      "\n",
      "tq > TIME EXCEEDED! Estimated: 12s\n"
     ]
    }
   ],
   "metadata": {}
  },
  {
   "cell_type": "code",
   "execution_count": 6,
   "source": [
    "import numpy\r\n",
    "from timequota import TimeQuota\r\n",
    "\r\n",
    "tq = TimeQuota(11, step_aggr_fn=numpy.median) # custom step aggregate function\r\n",
    "\r\n",
    "for i in tq.range(8):\r\n",
    "\r\n",
    "    # ...\r\n",
    "    sleep_time = random.randint(1, 5)\r\n",
    "    print(\"itr\", i+1, f\": sleep {sleep_time} secs\")\r\n",
    "    time.sleep(sleep_time)\r\n",
    "    # ..."
   ],
   "outputs": [
    {
     "output_type": "stream",
     "name": "stdout",
     "text": [
      "tq > time remaining: 11.0000 secs | time elapsed: -\n",
      "\n",
      "itr 1 : sleep 3 secs\n",
      "tq > time remaining: 7.9877 secs | time elapsed: 3.0123 secs | time this step: 3.0123 secs | time per step: 3.0123 secs\n",
      "itr 2 : sleep 4 secs\n",
      "tq > time remaining: 3.9831 secs | time elapsed: 7.0169 secs | time this step: 4.0046 secs | time per step: 3.5085 secs\n",
      "itr 3 : sleep 2 secs\n",
      "tq > time remaining: 1.9748 secs | time elapsed: 9.0252 secs | time this step: 2.0083 secs | time per step: 3.0123 secs\n",
      "\n",
      "tq > TIME EXCEEDED! Estimated: 12.0375 secs\n"
     ]
    }
   ],
   "metadata": {}
  },
  {
   "cell_type": "code",
   "execution_count": 7,
   "source": [
    "from timequota import TimeQuota\r\n",
    "\r\n",
    "tq = TimeQuota(11, step_aggr_fn=lambda t: 3) # fixed step time\r\n",
    "\r\n",
    "for i in tq.range(8):\r\n",
    "\r\n",
    "   # ...\r\n",
    "    print(\"itr\", i+1, \": sleep 3 secs\")\r\n",
    "    time.sleep(3)\r\n",
    "    # ..."
   ],
   "outputs": [
    {
     "output_type": "stream",
     "name": "stdout",
     "text": [
      "tq > time remaining: 11.0000 secs | time elapsed: -\n",
      "\n",
      "itr 1 : sleep 3 secs\n",
      "tq > time remaining: 7.9967 secs | time elapsed: 3.0033 secs | time this step: 3.0033 secs | time per step: 3.0000 secs\n",
      "itr 2 : sleep 3 secs\n",
      "tq > time remaining: 4.9889 secs | time elapsed: 6.0111 secs | time this step: 3.0078 secs | time per step: 3.0000 secs\n",
      "itr 3 : sleep 3 secs\n",
      "tq > time remaining: 1.9786 secs | time elapsed: 9.0214 secs | time this step: 3.0103 secs | time per step: 3.0000 secs\n",
      "\n",
      "tq > TIME EXCEEDED! Estimated: 12.0214 secs\n"
     ]
    }
   ],
   "metadata": {}
  },
  {
   "cell_type": "markdown",
   "source": [
    "## Extras"
   ],
   "metadata": {}
  },
  {
   "cell_type": "code",
   "execution_count": 8,
   "source": [
    "tq = TimeQuota(2.5, \"h\", \"s\", name=\"my-tq\") # 2.5 hours quota with seconds as display"
   ],
   "outputs": [],
   "metadata": {}
  },
  {
   "cell_type": "code",
   "execution_count": 9,
   "source": [
    "print(tq)"
   ],
   "outputs": [
    {
     "output_type": "stream",
     "name": "stdout",
     "text": [
      "+------------------+---------------+------------------+\n",
      "|  my-tq           |         Time  |        Time (s)  |\n",
      "+------------------+---------------+------------------+\n",
      "|  Time Quota      |  02h 30m 00s  |  9000.0000 secs  |\n",
      "|  Time Elapsed    |            -  |               -  |\n",
      "|  Time Remaining  |  02h 30m 00s  |  9000.0000 secs  |\n",
      "|  Time Per Step   |            -  |               -  |\n",
      "|  Time Exceeded   |        False  |           False  |\n",
      "+------------------+---------------+------------------+\n"
     ]
    }
   ],
   "metadata": {}
  },
  {
   "cell_type": "code",
   "execution_count": 10,
   "source": [
    "repr(tq)"
   ],
   "outputs": [
    {
     "output_type": "execute_result",
     "data": {
      "text/plain": [
       "\"TimeQuota(2.5, 'h', 's', 'my-tq', True)\""
      ]
     },
     "metadata": {},
     "execution_count": 10
    }
   ],
   "metadata": {}
  },
  {
   "cell_type": "markdown",
   "source": [
    "---"
   ],
   "metadata": {}
  }
 ]
}